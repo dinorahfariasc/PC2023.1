{
  "nbformat": 4,
  "nbformat_minor": 0,
  "metadata": {
    "colab": {
      "provenance": [],
      "authorship_tag": "ABX9TyMQpuxbKD/KG69WdVw/9qWj",
      "include_colab_link": true
    },
    "kernelspec": {
      "name": "python3",
      "display_name": "Python 3"
    },
    "language_info": {
      "name": "python"
    }
  },
  "cells": [
    {
      "cell_type": "markdown",
      "metadata": {
        "id": "view-in-github",
        "colab_type": "text"
      },
      "source": [
        "<a href=\"https://colab.research.google.com/github/dinorahfariasc/PC2023.1/blob/main/PC3.ipynb\" target=\"_parent\"><img src=\"https://colab.research.google.com/assets/colab-badge.svg\" alt=\"Open In Colab\"/></a>"
      ]
    },
    {
      "cell_type": "markdown",
      "source": [
        "# Processando listas"
      ],
      "metadata": {
        "id": "Iez8_7lY2v8d"
      }
    },
    {
      "cell_type": "code",
      "execution_count": 2,
      "metadata": {
        "colab": {
          "base_uri": "https://localhost:8080/"
        },
        "id": "bcTXqz3F0it2",
        "outputId": "8fed5b55-e281-4ab8-8bb5-60a3456eb7ae"
      },
      "outputs": [
        {
          "output_type": "stream",
          "name": "stdout",
          "text": [
            "digite um número: 1\n",
            "digite um número: 2\n",
            "digite um número: 3\n",
            "digite um número: 4\n",
            "digite um número: 5\n",
            "digite um número: 6\n",
            "digite um número: 7\n",
            "digite um número: 8\n",
            "digite um número: 9\n",
            "digite um número: 10\n",
            "\n",
            "Menor e maior entrada\n",
            "Marveu: menor entrada = 1\n",
            "Capicon: maior entrada = 10\n",
            "\n",
            "Index minimo e maximo\n",
            "Marveu: minimo foi o 1° numero informado\n",
            "Capicon: maximo foi o 10° numero informado\n",
            "\n",
            "Soma e produto\n",
            "Marveu: soma das entrada = 55\n",
            "capicon: produto das entradas = 3628800\n",
            "\n",
            "Media e mediana\n",
            "Marveu: media das entradas = 5.5\n",
            "Capicon: mediana das entradas = 10\n",
            "\n"
          ]
        }
      ],
      "source": [
        "entradas = []\n",
        "for x in range(10):\n",
        "    entradas.append(int(input(\"digite um número: \")))\n",
        "\n",
        "# min e maximo3\n",
        "print(\"\\nMenor e maior entrada\")\n",
        "print(f\"Marveu: menor entrada = {min(entradas)}\")\n",
        "print(f\"Capicon: maior entrada = {max(entradas)}\\n\")\n",
        "\n",
        "print(\"Index minimo e maximo\")\n",
        "print(f\"Marveu: minimo foi o {entradas.index(min(entradas)) + 1}° numero informado\")\n",
        "print(f\"Capicon: maximo foi o {entradas.index(max(entradas)) + 1}° numero informado\\n\")\n",
        "\n",
        "print(\"Soma e produto\")\n",
        "print(f\"Marveu: soma das entrada = {sum(entradas)}\")\n",
        "produto = 1\n",
        "for x in entradas:\n",
        "    produto *= x\n",
        "print(f\"capicon: produto das entradas = {produto}\\n\")\n",
        "\n",
        "print(\"Media e mediana\")\n",
        "print(f\"Marveu: media das entradas = {sum(entradas) / (len(entradas))}\")\n",
        "mediana = 0\n",
        "if len(entradas) % 2 == 0:\n",
        "    ind = int((len(entradas) + 1) / 2)\n",
        "    mediana = round(entradas[ind] + entradas[ind + 1] / 2)\n",
        "else:\n",
        "    ind = int(len(entradas) / 2)\n",
        "    mediana = entradas[ind]\n",
        "\n",
        "print(f\"Capicon: mediana das entradas = {mediana}\\n\")"
      ]
    },
    {
      "cell_type": "markdown",
      "source": [
        "# Masacarando telefones"
      ],
      "metadata": {
        "id": "179qGC5W2yc0"
      }
    },
    {
      "cell_type": "code",
      "source": [
        "numeros = []\n",
        "final = []\n",
        "for x in range(10):\n",
        "    numeros.append(int(input(\"digite um número: \")))\n",
        "\n",
        "for n in numeros[1:]:\n",
        "    num = n % numeros[0]\n",
        "    final.append(num)\n",
        "\n",
        "print(f\"numero do cliente: {final}\")\n"
      ],
      "metadata": {
        "colab": {
          "base_uri": "https://localhost:8080/"
        },
        "id": "Kq9mK5HI2yYC",
        "outputId": "de718825-edd3-4067-eb48-c6727a3df324"
      },
      "execution_count": 6,
      "outputs": [
        {
          "output_type": "stream",
          "name": "stdout",
          "text": [
            "digite um número: 5\n",
            "digite um número: 1\n",
            "digite um número: 9\n",
            "digite um número: 0\n",
            "digite um número: 5\n",
            "digite um número: 1\n",
            "digite um número: 8\n",
            "digite um número: 7\n",
            "digite um número: 5\n",
            "digite um número: 5\n",
            "numero do cliente: [1, 4, 0, 0, 1, 3, 2, 0, 0]\n"
          ]
        }
      ]
    },
    {
      "cell_type": "markdown",
      "source": [
        "\n",
        "# Testando combinacoes"
      ],
      "metadata": {
        "id": "DcDDK3oc2ySR"
      }
    },
    {
      "cell_type": "code",
      "source": [
        "\n",
        "def valordasenha(soma_valor, n):\n",
        "    pares = []\n",
        "\n",
        "    for i in range(len(n)):\n",
        "        for x in range(i + 1, len(n)):\n",
        "            if n[i] + n[x] == soma_valor:\n",
        "                par = (n[i], n[x])\n",
        "                pares.append(par)\n",
        "\n",
        "    if len(pares) == 0:\n",
        "        return None\n",
        "\n",
        "    pares.sort()\n",
        "    senha = f\"{pares[0][0]}{pares[0][1]}\"\n",
        "    return(senha)\n",
        "\n",
        "soma_valor = int(input(\"Insira a soma: \"))\n",
        "n = []\n",
        "for i in range(10):\n",
        "    numero = int(input(f\"Digite o {i+1}º número: \"))\n",
        "    n.append(numero)\n",
        "\n",
        "senha = valordasenha(soma_valor, n)\n",
        "2\n",
        "print(\"Sua Senha é:\", senha)\n"
      ],
      "metadata": {
        "colab": {
          "base_uri": "https://localhost:8080/"
        },
        "id": "ibsLKLsI2yMA",
        "outputId": "904f432f-fef4-4097-adce-613db49da1ef"
      },
      "execution_count": 23,
      "outputs": [
        {
          "output_type": "stream",
          "name": "stdout",
          "text": [
            "Insira a soma: 20\n",
            "Digite o 1º número: 10\n",
            "Digite o 2º número: 10\n",
            "Digite o 3º número: 2\n",
            "Digite o 4º número: 3\n",
            "Digite o 5º número: 4\n",
            "Digite o 6º número: 5\n",
            "Digite o 7º número: 6\n",
            "Digite o 8º número: 7\n",
            "Digite o 9º número: 8\n",
            "Digite o 10º número: 9\n",
            "Sua Senha é: 1010\n"
          ]
        }
      ]
    },
    {
      "cell_type": "markdown",
      "source": [
        "# Pedaço de senha"
      ],
      "metadata": {
        "id": "ppwUYnEE2yEI"
      }
    },
    {
      "cell_type": "code",
      "source": [
        "\n",
        "frase = input(\"digite a frase: \").replace(\" \",\"\")\n",
        "teste = \"\"\n",
        "maior = \"\"\n",
        "\n",
        "for x in frase:\n",
        "    if x not in teste:\n",
        "        teste += x\n",
        "    else:\n",
        "        if len(teste) > len(maior):\n",
        "            maior = teste\n",
        "        teste = x\n",
        "if len(teste) > len(maior):\n",
        "    maior = teste\n",
        "\n",
        "\n",
        "print(maior)\n"
      ],
      "metadata": {
        "colab": {
          "base_uri": "https://localhost:8080/"
        },
        "id": "Vq1nK2KT2x8Z",
        "outputId": "e6f2200c-8462-457a-dcf1-a043da9da08b"
      },
      "execution_count": 10,
      "outputs": [
        {
          "output_type": "stream",
          "name": "stdout",
          "text": [
            "digite a frase: testee agora vai\n",
            "eagor\n"
          ]
        }
      ]
    }
  ]
}
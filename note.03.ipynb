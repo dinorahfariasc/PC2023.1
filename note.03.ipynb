{
  "cells": [
    {
      "cell_type": "markdown",
      "metadata": {
        "id": "WgmLAogn9ddt"
      },
      "source": [
        "<small><small><i>\n",
        "Este notebook foi baseado nos notebooks disponíveis em [https://gitlab.erc.monash.edu.au/andrease/Python4Maths.git]\n",
        "</i></small></small>"
      ]
    },
    {
      "cell_type": "markdown",
      "metadata": {
        "id": "nBxMfSlO9dd0"
      },
      "source": [
        "# Repetindo sem perder o controle!\n",
        "\n",
        "Python permite que um trecho de código seja executado múltiplas vezes **estruturas de repetição**. \n",
        "\n",
        "Pra não perder o controle do seu código e cair em um loop infinito, estruturas de repetição se baseiam em **condições de parada**.\n",
        "\n",
        "Neste roteiro, você aprenderá a utilizar estes conceitos da linguagem Python.\n",
        "\n",
        "## Estruturas de repetição\n",
        "\n",
        "Muitas vezes, é necessário executar um mesmo trecho de código várias vezes:\n",
        "* Quando um sistema pede uma senha ao usuário, mas ele tem uma certa quantidade de tentativas possívels.\n",
        "* Quando queremos cadastrar múltiplos contatos em uma agenda.\n",
        "* Quando estamos calculando a média de várias avaliações de uma disciplina.\n",
        "\n",
        "Em todas essas situações, precisamos repetir um trecho de código **sem cair em um loop infinito**. Há três situações comuns:\n",
        "* Sabemos quantas vezes queremos executar um código.\n",
        "* Queremos executar um código enquanto uma condição for verdadeira.\n",
        "* Queremos executar um código até que determinada situação aconteça.\n",
        "\n",
        "Python oferece duas estruturas de repetição, que podem ser usadas nas situações descritas acima:"
      ]
    },
    {
      "cell_type": "markdown",
      "metadata": {
        "id": "CEolUSE39dd2"
      },
      "source": [
        "| Estrutura | Significado |\n",
        "|:----:|:--|\n",
        "| ```for``` | Sabemos quantas vezes queremos executar um código.  <br> Queremos iterar sobre os elementos de uma coleção.|\n",
        "| ```while```  | Queremos executar um código até que determinada situação aconteça. <br> Queremos executar um código enquanto uma condição for verdadeira. |"
      ]
    },
    {
      "cell_type": "markdown",
      "metadata": {
        "id": "ARdg6omu9dd3"
      },
      "source": [
        "## A estrutura ```for```"
      ]
    },
    {
      "cell_type": "markdown",
      "metadata": {
        "id": "vXSFk8tP9dd3"
      },
      "source": [
        "Quando sabemos quantas vezes queremos executar um código, a estrutura de repetição ```for``` deve ser nossa escolha:\n",
        "\n",
        "```python\n",
        "for iterador in intervalo:\n",
        "    expressao\n",
        "    expressao\n",
        "    ...\n",
        "```\n",
        "\n",
        "As regras básicas para o uso da estrutura **for** em Python são:\n",
        "\n",
        "* O trecho de código delimitado por uma estrutura **for** é chamado bloco e deve ser identado.\n",
        "* O procedimento **range(inicio, fim)** permite definir um intervalo de valores que a variavel **iterador** pode assumir durante a execução do ```for```. \n",
        "\n",
        "O exemplo abaixo mostra como esta estrutura pode ser usada para que um código seja repetido por 5 vezes:"
      ]
    },
    {
      "cell_type": "code",
      "execution_count": null,
      "metadata": {
        "collapsed": true,
        "id": "aZhzGoF39dd4",
        "scrolled": true
      },
      "outputs": [],
      "source": [
        "for i in range(0,5):\n",
        "    print(\"Execução\", i+1)"
      ]
    },
    {
      "cell_type": "markdown",
      "metadata": {
        "id": "_Nbr0OcT9dd6"
      },
      "source": [
        "Note que a função range define intervalos do tipo **[início, fim)**, isto é, valores maiores ou iguais a **início** e menores que **fim**.\n",
        "\n",
        "Também é possível definir intervalos mais elaborados, criando séries com diferentes crescimentos ou até mesmo decréscimos:"
      ]
    },
    {
      "cell_type": "code",
      "execution_count": null,
      "metadata": {
        "colab": {
          "base_uri": "https://localhost:8080/"
        },
        "collapsed": true,
        "id": "6Y_c9KQl9dd7",
        "outputId": "45aa35c5-6ef4-4a14-e3fa-e367ad0badb6",
        "scrolled": true
      },
      "outputs": [
        {
          "name": "stdout",
          "output_type": "stream",
          "text": [
            "Valor de i: 0\n",
            "Valor de i: 2\n",
            "Valor de i: 4\n"
          ]
        }
      ],
      "source": [
        "# Série crescedo de 2 em 2\n",
        "for i in range(0,5,2):\n",
        "    print(\"Valor de i:\", i)"
      ]
    },
    {
      "cell_type": "code",
      "execution_count": null,
      "metadata": {
        "colab": {
          "base_uri": "https://localhost:8080/"
        },
        "collapsed": true,
        "id": "Ky0E1XKR9dd8",
        "outputId": "c124d9cd-18c2-443e-fa67-4392e3645d36",
        "scrolled": true
      },
      "outputs": [
        {
          "name": "stdout",
          "output_type": "stream",
          "text": [
            "Valor de i: 15\n",
            "Valor de i: 10\n",
            "Valor de i: 5\n",
            "Valor de i: 0\n",
            "Valor de i: -5\n",
            "Valor de i: -10\n",
            "Valor de i: -15\n"
          ]
        }
      ],
      "source": [
        "# Série decrescendo de 5 em 5\n",
        "for i in range(15,-20,-5):\n",
        "    print(\"Valor de i:\", i)"
      ]
    },
    {
      "cell_type": "markdown",
      "metadata": {
        "id": "bi2hK42K9dd8"
      },
      "source": [
        "### Exercícios de fixação"
      ]
    },
    {
      "cell_type": "markdown",
      "metadata": {
        "id": "hGEdoxC29dd9"
      },
      "source": [
        "1 - Peça ao usuário suas notas das 3 unidades de uma disciplina e calcule sua média."
      ]
    },
    {
      "cell_type": "code",
      "execution_count": null,
      "metadata": {
        "colab": {
          "base_uri": "https://localhost:8080/"
        },
        "collapsed": true,
        "id": "SccXIu_L9dd9",
        "outputId": "45a8e125-acac-4c8b-ce6c-b45701b4a280"
      },
      "outputs": [
        {
          "name": "stdout",
          "output_type": "stream",
          "text": [
            "digite uma nota: 10\n",
            "digite uma nota: 10\n",
            "digite uma nota: 10\n",
            "a media sera de 10.0\n"
          ]
        }
      ],
      "source": [
        "nota = 0\n",
        "\n",
        "for i in range(3):\n",
        "  no = int(input('digite uma nota: '))\n",
        "  nota += no\n",
        "\n",
        "media = nota/3\n",
        "print(f'a media sera de {media}')\n"
      ]
    },
    {
      "cell_type": "markdown",
      "metadata": {
        "id": "MSscsOk79dd9"
      },
      "source": [
        "2 - Solicite ao usuário um inteiro positivo *n* e imprima a soma dos números pares entre 0 e *n*."
      ]
    },
    {
      "cell_type": "code",
      "execution_count": null,
      "metadata": {
        "colab": {
          "base_uri": "https://localhost:8080/"
        },
        "collapsed": true,
        "id": "surTXqkk9dd-",
        "outputId": "8a97c105-e985-4822-cfcd-caf8847f07d8"
      },
      "outputs": [
        {
          "name": "stdout",
          "output_type": "stream",
          "text": [
            "digite um número: 8\n",
            "12\n"
          ]
        }
      ],
      "source": [
        "n = int(input('digite um número: '))\n",
        "\n",
        "soma = 0\n",
        "for i in range(0,n-1):\n",
        "  if i % 2 == 0:\n",
        "    soma += i\n",
        "\n",
        "print(soma)\n"
      ]
    },
    {
      "cell_type": "markdown",
      "metadata": {
        "id": "pQxQGrOe9dd_"
      },
      "source": [
        "3 - Analise os números entre -25 e 50. Se o número for múltiplo de 2, imprima BUS. Se for múltiplo de 3, imprima FEES. Caso seja múltiplo de 2 e de 3 ao mesmo tempo, imprima BUS e FEES."
      ]
    },
    {
      "cell_type": "code",
      "execution_count": null,
      "metadata": {
        "colab": {
          "base_uri": "https://localhost:8080/"
        },
        "collapsed": true,
        "id": "jYIy9Ho69deA",
        "outputId": "cc5363c1-02c8-4993-b59a-cdcadcbb6c30"
      },
      "outputs": [
        {
          "name": "stdout",
          "output_type": "stream",
          "text": [
            "BUS\n",
            "FESS\n",
            "BUS\n",
            "BUS\n",
            "BUS e FEES\n",
            "BUS\n",
            "FESS\n",
            "BUS\n",
            "BUS\n",
            "BUS e FEES\n",
            "BUS\n",
            "FESS\n"
          ]
        }
      ],
      "source": [
        "for i in range(-25, 50, 5):\n",
        "  if i % 2 ==0:\n",
        "    print('BUS')\n",
        "  elif i % 3 ==0:\n",
        "    print('FESS')\n",
        "  if i % 2 ==0 and i % 3 ==0:\n",
        "    print('BUS e FEES')"
      ]
    },
    {
      "cell_type": "markdown",
      "metadata": {
        "id": "Mm1FWJlc9deB"
      },
      "source": [
        "4 - Solicite ao usuário um inteiro positivo *n* e calcule o fatorial de *n*."
      ]
    },
    {
      "cell_type": "code",
      "execution_count": null,
      "metadata": {
        "colab": {
          "base_uri": "https://localhost:8080/"
        },
        "collapsed": true,
        "id": "IIW6j9y79deC",
        "outputId": "f61b3a6f-249b-4977-c827-24899b0d3215"
      },
      "outputs": [
        {
          "name": "stdout",
          "output_type": "stream",
          "text": [
            "Fatorial de: 5\n",
            "120\n"
          ]
        }
      ],
      "source": [
        "numero = int(input(\"Fatorial de: \") )\n",
        "\n",
        "resultado=1\n",
        "i =1\n",
        "\n",
        "while i <= numero:\n",
        "    resultado *= i\n",
        "    i += 1\n",
        "\n",
        "print(resultado)"
      ]
    },
    {
      "cell_type": "markdown",
      "metadata": {
        "id": "MIaGrr2F9deC"
      },
      "source": [
        "## A estrutura ```while```"
      ]
    },
    {
      "cell_type": "markdown",
      "metadata": {
        "id": "MWOC5b1s9deC"
      },
      "source": [
        "Quando queremos executar um código enquanto uma condição for verdadeira, a estrutura de repetição ```while``` deve ser nossa escolha:\n",
        "\n",
        "```python\n",
        "while condicao:\n",
        "    expressao\n",
        "    expressao\n",
        "    ...\n",
        "```\n",
        "\n",
        "As regras básicas para o uso da estrutura **while** em Python são:\n",
        "\n",
        "* O trecho de código delimitado por uma estrutura **while** é chamado bloco e deve ser identado.\n",
        "* O bloco delimitado por uma estrutura **while** será executado enquanto a expressão lógica (```condicao```) for verdadeira (```True```).\n",
        "\n",
        "Um exemplo de uso desta estrutura é o caso em que não se sabe quantas vezes será necessário executar um trecho de código:"
      ]
    },
    {
      "cell_type": "code",
      "execution_count": null,
      "metadata": {
        "collapsed": true,
        "id": "FgRE2jop9deC",
        "scrolled": true
      },
      "outputs": [],
      "source": [
        "from random import randint\n",
        "\n",
        "n_multiplos = 0\n",
        "while n_multiplos < 3:\n",
        "    numero = randint(0,30)\n",
        "    if numero % 3 == 0:\n",
        "        n_multiplos += 1\n",
        "        print(\"Múltiplo #\", n_multiplos, \"-\", numero)"
      ]
    },
    {
      "cell_type": "markdown",
      "metadata": {
        "id": "od1CA0GP9deD"
      },
      "source": [
        "Também é possível utilizar a estrutura de repetição ```while``` quando queremos executar um código até que uma determinada situação ocorra:\n",
        "\n",
        "```python\n",
        "while True:\n",
        "    expressao\n",
        "    expressao\n",
        "    ...\n",
        "    if condicao:\n",
        "        break\n",
        "```\n",
        "\n",
        "As regras básicas para o uso da estrutura **while** neste contexto são:\n",
        "\n",
        "* O bloco será executado uma ou mais vezes, até que a condição se torne verdadeira.\n",
        "* O comando **```break```** provoca a interrupção da repetição.\n",
        "\n",
        "O exemplo abaixo mostra como esta estrutura pode ser usada para solicitar uma senha ao usuário até que ele acerte a senha:"
      ]
    },
    {
      "cell_type": "code",
      "execution_count": null,
      "metadata": {
        "collapsed": true,
        "id": "9LqTFNd39deD",
        "scrolled": false
      },
      "outputs": [],
      "source": [
        "senha_correta = \"swordfish\"\n",
        "while True:\n",
        "    senha = input(\"Informe sua senha: \")\n",
        "    if senha == senha_correta:\n",
        "        break\n",
        "    else:\n",
        "        print(\"Senha incorreta!\")"
      ]
    },
    {
      "cell_type": "markdown",
      "metadata": {
        "id": "Jcnqig3r9deE"
      },
      "source": [
        "### Exercícios de fixação"
      ]
    },
    {
      "cell_type": "markdown",
      "metadata": {
        "id": "EEl5oYPd9deE"
      },
      "source": [
        "1 - Sorteie um número entre 0 e 10 e peça ao usuário para tentar adivinhá-lo. Quando o usuário acertar o número, informe quantas tentativas foram necessárias."
      ]
    },
    {
      "cell_type": "code",
      "execution_count": null,
      "metadata": {
        "colab": {
          "base_uri": "https://localhost:8080/"
        },
        "collapsed": true,
        "id": "4TEwIdtp9deE",
        "outputId": "4f0c7d38-fea3-401f-9f3b-a57105d5d466"
      },
      "outputs": [
        {
          "name": "stdout",
          "output_type": "stream",
          "text": [
            "digite um numero: 1\n",
            "digite um numero: 2\n",
            "voce acertou com 2 tentativas\n"
          ]
        }
      ],
      "source": [
        "from random import randint\n",
        "\n",
        "cont = 0\n",
        "num = randint(0,10)\n",
        "\n",
        "while True:\n",
        "  chance = int(input('digite um numero: '))\n",
        "  cont += 1\n",
        "  if chance == num:\n",
        "    print(f'voce acertou com {cont} tentativas!')\n",
        "    break"
      ]
    },
    {
      "cell_type": "markdown",
      "metadata": {
        "id": "cJmN1MAb9deE"
      },
      "source": [
        "### Pulando parte do código\n",
        "\n",
        "É possível evitar que parte do código seja executada durante uma repetição utilizando o comando ```continue```.\n"
      ]
    },
    {
      "cell_type": "code",
      "execution_count": null,
      "metadata": {
        "colab": {
          "base_uri": "https://localhost:8080/"
        },
        "id": "He5haLk59deE",
        "outputId": "448a6e7a-b87d-4351-bee9-ce52d019f6c8",
        "scrolled": true
      },
      "outputs": [
        {
          "name": "stdout",
          "output_type": "stream",
          "text": [
            "0\n",
            "1\n",
            "2\n",
            "4\n",
            "5\n",
            "6\n",
            "7\n",
            "8\n",
            "9\n"
          ]
        }
      ],
      "source": [
        "soma = 0\n",
        "for i in range(10):\n",
        "    if i == 3:\n",
        "        continue\n",
        "    print(i)"
      ]
    },
    {
      "cell_type": "markdown",
      "metadata": {
        "id": "S2GLaR-u9deF"
      },
      "source": [
        "### Exercícios de fixação"
      ]
    },
    {
      "cell_type": "markdown",
      "metadata": {
        "id": "Z-ZmcSbj9deF"
      },
      "source": [
        "1 - Imprima os números pares entre 0 e 50, pulando os números múltiplos de 4. Use o comando ```continue```."
      ]
    },
    {
      "cell_type": "code",
      "execution_count": null,
      "metadata": {
        "colab": {
          "base_uri": "https://localhost:8080/"
        },
        "collapsed": true,
        "id": "PDP0NncN9deF",
        "outputId": "30f66b56-e918-45c8-b4d0-677b9541881c"
      },
      "outputs": [
        {
          "name": "stdout",
          "output_type": "stream",
          "text": [
            "1\n",
            "2\n",
            "3\n",
            "5\n",
            "6\n",
            "7\n",
            "9\n",
            "10\n",
            "11\n",
            "13\n",
            "14\n",
            "15\n",
            "17\n",
            "18\n",
            "19\n",
            "21\n",
            "22\n",
            "23\n",
            "25\n",
            "26\n",
            "27\n",
            "29\n",
            "30\n",
            "31\n",
            "33\n",
            "34\n",
            "35\n",
            "37\n",
            "38\n",
            "39\n",
            "41\n",
            "42\n",
            "43\n",
            "45\n",
            "46\n",
            "47\n",
            "49\n"
          ]
        }
      ],
      "source": [
        "for i in range(50):\n",
        "  if i % 4 == 0:\n",
        "    continue\n",
        "  print(i)\n"
      ]
    },
    {
      "cell_type": "markdown",
      "metadata": {
        "id": "zo577Kyv9deF"
      },
      "source": [
        "## Combinando múltiplas estruturas de repetição"
      ]
    },
    {
      "cell_type": "markdown",
      "metadata": {
        "id": "pkrsPWWD9deG"
      },
      "source": [
        "Assim como vimos para estruturas de decisão, também podemos combinar estruturas de repetição em múltiplos níveis. \n",
        "\n",
        "As regras básicas para **aninhar estruturas de repetição** em Python são:\n",
        "* Não há limite com relação a quantas estruturas e em quantos níveis.\n",
        "* Blocos de níveis mais profundos devem apresentar maior grau de identação.\n",
        "* Os efeitos dos comandos ```break``` e ```continue``` se limitam ao nível atual.\n",
        "\n",
        "O exemplo abaixo mostra como imprimir uma matriz identidade. Note que a função ```print``` pode ser usada para imprimir várias vezes em uma mesma linha, utilizando pra isso a opção ```end```."
      ]
    },
    {
      "cell_type": "code",
      "execution_count": null,
      "metadata": {
        "colab": {
          "base_uri": "https://localhost:8080/"
        },
        "collapsed": true,
        "id": "Lcv0RKQP9deG",
        "outputId": "309fe7f2-b4b2-4e13-8ac5-2f0b95b250fc"
      },
      "outputs": [
        {
          "name": "stdout",
          "output_type": "stream",
          "text": [
            " 1  0  0 \n",
            " 0  1  0 \n",
            " 0  0  1 \n"
          ]
        }
      ],
      "source": [
        "for i in range(3):\n",
        "    for j in range(3):\n",
        "        if i == j:\n",
        "            print(\" 1 \", end='')\n",
        "        else:\n",
        "            print(\" 0 \", end='')\n",
        "    print()"
      ]
    },
    {
      "cell_type": "markdown",
      "metadata": {
        "collapsed": true,
        "id": "xNgxEBYb9deG"
      },
      "source": [
        "## Exercícios do URI"
      ]
    },
    {
      "cell_type": "markdown",
      "metadata": {
        "collapsed": true,
        "id": "zylyUbBq9deG"
      },
      "source": [
        "[1080](https://www.urionlinejudge.com.br/judge/pt/problems/view/1080) - Calcular estatísticas é uma importante tarefa dos sistema de computação que trabalham com análise de dados. Em um roteiro anterior, você implementou uma função para uso em histogramas, que informava a qual intervalo um elemento pertencia.\n",
        "\n",
        "Neste exercício, você vai voltar pro mundo real e de fato preparar um histograma dos dados (colher de chá: não precisa gerar o gráfico no final).\n",
        "\n",
        "Escreva um código Python que receba um inteiro informando quantos números no intervalo \\[0,100\\) serão informados a seguir. Considerando 5 subintervalos de igual tamanho, seu programa deverá calcular a frequência de elementos presentes em cada subintervalo.\n",
        "\n",
        "Por fim, seu programa deverá informar os elementos máximo e mínimo encontrados nos dados, e suas posições na sequência dos dados de entrada."
      ]
    },
    {
      "cell_type": "markdown",
      "metadata": {
        "id": "I38GmkeC9deH"
      },
      "source": [
        "|.| Entrada | Saída |\n",
        "|-|:----:|---|\n",
        "| *Exemplo 1* | 5<br/>100<br/>40<br/>32<br/>87<br/>90 | \\[0,20\\) - 1 <br/> \\[20,40\\) - 1 <br/> \\[40,60\\) - 1 <br/> \\[60,80\\) - 0 <br/> \\[80,100\\) - 3  <br/> Máximo: 100 (0) <br/> Mínimo: 32 (2) | \n",
        "| *Exemplo 2* | 3<br/>12<br/>29<br/>45 | \\[0,20\\) - 1 <br/> \\[20,40\\) - 1 <br/> \\[40,60\\) - 1 <br/> \\[60,80\\) - 0 <br/> \\[80,100\\) - 0  <br/> Máximo: 45 (2) <br/> Mínimo: 12 (0) | \n",
        "| *Exemplo 3* | 7<br/>13<br/>88<br/>45<br/>63<br/>94<br/>27<br/>5 | \\[0,20\\) - 1 <br/> \\[20,40\\) - 1 <br/> \\[40,60\\) - 1 <br/> \\[60,80\\) - 1 <br/> \\[80,100\\) - 2  <br/> Máximo: 94 (4) <br/> Mínimo: 5 (6) | \n"
      ]
    },
    {
      "cell_type": "code",
      "execution_count": null,
      "metadata": {
        "colab": {
          "base_uri": "https://localhost:8080/"
        },
        "id": "FF9dVBov8BkW",
        "outputId": "57fee136-1bd7-481d-98eb-9bf2b6f549c4"
      },
      "outputs": [
        {
          "name": "stdout",
          "output_type": "stream",
          "text": [
            "digite a quatidade de entradas: 3\n",
            "digite um numero12\n",
            "digite um numero29\n",
            "digite um numero45\n",
            "[1, 0, 0, 0, 0, 0, 1, 0, 0, 0, 0, 0, 1, 0, 0]\n",
            "[0 20) - 1\n",
            "[20 40) - 1\n",
            "[40 60) - 1\n",
            "[60 80) - 0\n",
            "[80 100) - 0\n",
            "Máximo 45 (2)\n",
            "Mínimo 12 (0)\n"
          ]
        }
      ],
      "source": [
        "histo = []\n",
        "numeros = []\n",
        "vezes = int(input())\n",
        "\n",
        "for i in range(vezes):\n",
        "  num = int(input())\n",
        "  numeros.append(num)\n",
        "  for x in range(0,100,20):\n",
        "    if num > x and num < (x + 20):\n",
        "      histo.append(1)\n",
        "    elif num == x + 20:\n",
        "      histo.append(1)\n",
        "    else: \n",
        "      histo.append(0)\n",
        "\n",
        "#print(histo)\n",
        "\n",
        "for i,x in zip(range(0,5), range(0,100,20)):\n",
        "  print(f'[{x} {x+20}) - {sum(histo[i::5])}')\n",
        "\n",
        "maior = max(numeros)\n",
        "canto_max = numeros.index(maior)\n",
        "print(f'Máximo {maior} ({canto_max})')\n",
        "\n",
        "minimo = min(numeros)\n",
        "canto_min = numeros.index(minimo)\n",
        "print(f'Mínimo {minimo} ({canto_min})')"
      ]
    },
    {
      "cell_type": "markdown",
      "metadata": {
        "collapsed": true,
        "id": "7ZhSdhcf9deI"
      },
      "source": [
        "[1164](https://www.urionlinejudge.com.br/judge/pt/problems/view/1164) - Um número **perfeito** é um número igual à soma dos seus divisores (exceto ele mesmo).\n",
        "\n",
        "O número 28 é um exemplo de número perfeito: 28 = 1 + 2 + 4 + 7 + 14.\n",
        "\n",
        "[1165](https://www.urionlinejudge.com.br/judge/pt/problems/view/1165) - Um número **primo** é um número que só pode ser dividido por 1 e por ele mesmo. \n",
        "\n",
        "O número 17, por exemplo, só pode ser dividido por 1 e por 17.\n",
        "\n",
        "Escreva um código Python que receba um inteiro N e imprima os números do intervalo [1,N] que são primos ou perfeitos."
      ]
    },
    {
      "cell_type": "markdown",
      "metadata": {
        "collapsed": true,
        "id": "lXoapv6Z9deI"
      },
      "source": [
        "|.| Entrada | Saída |\n",
        "|-|:-:|:-|\n",
        "| *Exemplo 1* | 10 | 1 2 3 5 6 7 10 | \n",
        "| *Exemplo 2* | 15 | 1 2 3 5 6 7 10 11 13 |\n",
        "| *Exemplo 3* | 20 | 1 2 3 5 6 7 10 11 13 17 19 |"
      ]
    },
    {
      "cell_type": "code",
      "execution_count": 18,
      "metadata": {
        "colab": {
          "base_uri": "https://localhost:8080/"
        },
        "collapsed": true,
        "id": "EzVwe2CZ9deJ",
        "outputId": "4a5e99f7-e576-46fc-9bb3-bc73b529ba09"
      },
      "outputs": [
        {
          "name": "stdout",
          "output_type": "stream",
          "text": [
            "digite um número: 28\n",
            "[1, 2, 3, 5, 6, 7, 11, 13, 17, 19, 23, 28]\n"
          ]
        }
      ],
      "source": [
        "num = int(input())\n",
        "\n",
        "saida = [1,]\n",
        "\n",
        "for i in range(1,num+1):\n",
        "  soma = 0\n",
        "  cont = 0\n",
        " #primo   \n",
        "  for x in range(1,num):\n",
        "    if i % x == 0: \n",
        "      cont += 1\n",
        "  if cont == 2:\n",
        "    saida.append(i)\n",
        "  #perfeito \n",
        "  for x in range(1,i):\n",
        "      if i % x  == 0:\n",
        "            soma += x\n",
        "  if soma == i:\n",
        "    saida.append(i)\n",
        "\n",
        "print(saida)"
      ]
    },
    {
      "cell_type": "markdown",
      "metadata": {
        "collapsed": true,
        "id": "G2x3y1y99deJ"
      },
      "source": [
        "[1789](https://www.urionlinejudge.com.br/judge/pt/problems/view/1789) - Jogos de corrida utilizam simulações baseadas nas regras da física para trazer realismo à experiência do usuário.\n",
        "\n",
        "Neste exercício, você deve simular uma das regras mais simples da mecânica clássica, que mostra que a distância percorrida por um objeto é proporcional à sua velocidade.\n",
        "\n",
        "Neste jogo serão 3 corredores, cada um com uma velocidade dada por um número real sorteado no intervalo [0,100) m/s.\n",
        "\n",
        "Considere que todos os competidores partem do mesmo lugar e apresente a posição de cada corredor atualizada segundo a segundo.\n",
        "\n",
        "Considere ainda que a linha de chegada está a 482m de distância do ponto de partida e encerre a corrida quando o vencedor cruzar a linha, identificando o vencedor.\n",
        "\n",
        "** Dica --** Para gerar um número real aleatório no intervalo [0,100), utilize a função ```uniform(0,100)```."
      ]
    },
    {
      "cell_type": "markdown",
      "metadata": {
        "collapsed": true,
        "id": "RscxojtF9deJ"
      },
      "source": [
        "|.| Velocidades | Saída |\n",
        "|-|:-:|:-|\n",
        "| *Exemplo 1* | 15.38<br/>55.49<br/>48.65  | 15.38 55.49 48.65 <br/> 30.76 110.98 97.30 <br/> 46.14 166.47 145.95 <br/> 61.52 221.96 194.60 <br/> 76.90 277.45 243.25 <br/> 92.28 332.94 291.90 <br/> 107.66 388.43 340.55 <br/> 123.04 443.92 389.20 <br/> 138.42 499.41 437.85 <br/> P2 | \n",
        "| *Exemplo 2* | 42.27<br/>95.26<br/>72.25 | 42.27 95.26 72.25 <br/> 84.54 190.52 144.50 <br/> 126.81 285.78 216.75 <br/> 169.08 381.04 289.00 <br/> 211.35 476.30 361.25 <br/> 253.62 571.56 433.50 <br/> P2 |\n",
        "| *Exemplo 3* | 98.76<br/>93.21<br/>96.65 | 98.76 93.21 96.65 <br/> 197.52 186.42 193.30 <br/> 296.28 279.63 289.95 <br/> 395.04 372.84 386.60 <br/> 493.80 466.05 483.25 <br/> P1 |"
      ]
    },
    {
      "cell_type": "code",
      "execution_count": 124,
      "metadata": {
        "colab": {
          "base_uri": "https://localhost:8080/"
        },
        "collapsed": true,
        "id": "PMEsKXUZ9deJ",
        "outputId": "47ddadfb-72d1-4e6c-e49e-fb89754facf6"
      },
      "outputs": [
        {
          "name": "stdout",
          "output_type": "stream",
          "text": [
            "[45.22, 91.67, 34.66]\n",
            "[90.44, 183.34, 69.32]\n",
            "[135.66, 275.01, 103.98]\n",
            "[180.88, 366.68, 138.64]\n",
            "[226.1, 458.35, 173.3]\n",
            "[271.32, 550.02, 207.96]\n",
            "P2\n"
          ]
        }
      ],
      "source": [
        "from random import uniform\n",
        "\n",
        "dist = 0\n",
        "segundos = [[],[],[]]\n",
        "lap = [0,0,0]\n",
        "saida = [[],[],[]]\n",
        "resultado = []\n",
        "\n",
        "for i in range(3):\n",
        "  cont = 1\n",
        "  velocidade = round(uniform(0,100),2)\n",
        "  #print(velocidade)\n",
        "  segundos[i].append(velocidade)\n",
        "  lap[i] =+ 1\n",
        "  dist = round(velocidade,2)\n",
        "\n",
        "  while dist < 482:\n",
        "    dist += round(velocidade,2)\n",
        "    #print(round(dist,2))\n",
        "    segundos[i].append((round(dist,2)))\n",
        "    cont += 1\n",
        "    lap[i] = cont\n",
        "\n",
        "for x in (0,1,2):\n",
        "  saida[x] = segundos[x][:(min(lap))]\n",
        "\n",
        "#saida\n",
        "for x in saida:\n",
        "  for i in x:\n",
        "    resultado.append(i)\n",
        "l =0\n",
        "for x in range(min(lap)):\n",
        "  print(str(resultado[l::min(lap)]))\n",
        "  l += 1\n",
        "\n",
        "#vencedor \n",
        "maior_vel = (lap.index(min(lap)))\n",
        "print(f\"P{maior_vel +1}\")"
      ]
    },
    {
      "cell_type": "markdown",
      "metadata": {
        "collapsed": true,
        "id": "vU2vtbSs9deK"
      },
      "source": [
        "[1828](https://www.urionlinejudge.com.br/judge/pt/problems/view/1828) - Pedra, paper e tesoura, ou じゃんけんぽん (jankenpon), é um jogo simples que envolve apenas quatro regras:\n",
        "\n",
        "- Dois jogadores disputam entre si, podendo escolher entre 3 opções de ação: pedra, papel ou tesoura.\n",
        "- A pedra quebra a tesoura.\n",
        "- A tesoura corta o papel.\n",
        "- O papel embrulha a pedra.\n",
        "\n",
        "Também é possível que não haja um vencedor, quando os dois jogadores escolhem a mesma ação.\n",
        "\n",
        "Escreva um código Python que receba um inteiro informando número de rodadas de uma partida e simule dois jogadores competindo entre si. Você deve imprimir as ações e o vencedor de cada rodada, bem como o vencedor da partida."
      ]
    },
    {
      "cell_type": "markdown",
      "metadata": {
        "id": "E51-EHMB9deK"
      },
      "source": [
        "|.| Entrada | Saída |\n",
        "|-|:-:|:-|\n",
        "| *Exemplo 1* | 3  | Jogador 2 <br/> Empate <br/> Jogador 2 <br/> Placar final: 0 x 2 <br/> Partida vencida pelo Jogador 2! | \n",
        "| *Exemplo 2* | 5 | Jogador 1 <br/> Jogador 1 <br/> Empate <br/> Empate <br/> Jogador 1 <br/> Placar final: 3 x 0 <br/> Partida vencida pelo Jogador 1! |\n",
        "| *Exemplo 3* | 4 | Empate <br/> Jogador 2 <br/> Empate <br/> Empate <br/> Placar final: 0 x 1 <br/> Partida vencida pelo Jogador 2! |"
      ]
    },
    {
      "cell_type": "code",
      "execution_count": 142,
      "metadata": {
        "colab": {
          "base_uri": "https://localhost:8080/"
        },
        "collapsed": true,
        "id": "VYF2Xgut9deK",
        "outputId": "27616981-8cd4-4a43-a5c1-840124a8d211"
      },
      "outputs": [
        {
          "name": "stdout",
          "output_type": "stream",
          "text": [
            "digite o numero de rodadas: 5\n",
            "Jogador 1\n",
            "Jogador 1\n",
            "Empate\n",
            "Empate\n",
            "Jogador 2\n",
            "Placar final: 2 x 1\n",
            "Partida vencida pelo Jogador 1\n"
          ]
        }
      ],
      "source": [
        "from random import randint\n",
        "rodadas = int(input())\n",
        "resultado = []\n",
        "#print(\"1 - pedra \\n2 - papel \\n3- tesoura\")\n",
        "\n",
        "for i in range(rodadas):\n",
        "  j1 = randint(1,3)\n",
        "  j2 = randint(1,3)\n",
        "\n",
        "  if j1 == j2:\n",
        "    print('Empate')\n",
        "    resultado.append(0)\n",
        "  elif j1 - j2 == 1: \n",
        "    print('Jogador 1')\n",
        "    resultado.append(1)\n",
        "  elif j2 - j1 == 1: \n",
        "    print('Jogador 2')\n",
        "    resultado.append(2)\n",
        "  elif j1 - j2 == -2:\n",
        "    print('Jogador 1')\n",
        "    resultado.append(1)\n",
        "  elif j2 - j2 == -2:\n",
        "      print('Jogador 2')\n",
        "      resultado.append(2)\n",
        "     \n",
        "if resultado.count(1) > resultado.count(2):\n",
        "    print(f'Placar final: {resultado.count(1)} x {resultado.count(2)}')\n",
        "    print('Partida vencida pelo Jogador 1')\n",
        "elif resultado.count(2) > resultado.count(1):\n",
        "    print(f'Placar final: {resultado.count(1)} x {resultado.count(2)}')\n",
        "    print('Partida vencida pelo Jogador 2')\n",
        "else:\n",
        "  print(f'Placar final: {resultado.count(1)} x {resultado.count(2)}')\n",
        "  print('Empate')"
      ]
    },
    {
      "cell_type": "markdown",
      "metadata": {
        "id": "lHORBz5D9deK"
      },
      "source": [
        "Agora que você já sabe até como criar um jogo de jonkenpon, implemente uma versão em que você pode jogar contra o computador e mostre que você pode derrotá-lo :D"
      ]
    },
    {
      "cell_type": "code",
      "execution_count": 143,
      "metadata": {
        "colab": {
          "base_uri": "https://localhost:8080/"
        },
        "collapsed": true,
        "id": "yFHWoJFZ9deK",
        "outputId": "45313867-0f5a-4005-e1e0-5537d9229f8b"
      },
      "outputs": [
        {
          "name": "stdout",
          "output_type": "stream",
          "text": [
            "digite o numero de rodadas: 3\n",
            "1 - pedra \n",
            "2 - papel \n",
            "3- tesoura\n",
            "escolha: 1\n",
            "Pc\n",
            "escolha: 1\n",
            "Pc\n",
            "escolha: 1\n",
            "Jogador 1\n",
            "Placar final: 1 x 2\n",
            "Partida vencida pelo Pc\n"
          ]
        }
      ],
      "source": [
        "from random import randint\n",
        "rodadas = int(input())\n",
        "resultado = []\n",
        "print(\"1 - pedra \\n2 - papel \\n3- tesoura\")\n",
        "\n",
        "for i in range(rodadas):\n",
        "  j1 = int(input('escolha: '))\n",
        "  j2 = randint(1,3)\n",
        "\n",
        "  if j1 == j2:\n",
        "    print('Empate')\n",
        "    resultado.append(0)\n",
        "  elif j1 - j2 == 1: \n",
        "    print('Jogador 1')\n",
        "    resultado.append(1)\n",
        "  elif j2 - j1 == 1: \n",
        "    print('Pc')\n",
        "    resultado.append(2)\n",
        "  elif j1 - j2 == -2:\n",
        "    print('Jogador 1')\n",
        "    resultado.append(1)\n",
        "  elif j2 - j2 == -2:\n",
        "      print('Pc')\n",
        "      resultado.append(2)\n",
        "     \n",
        "if resultado.count(1) > resultado.count(2):\n",
        "    print(f'Placar final: {resultado.count(1)} x {resultado.count(2)}')\n",
        "    print('Partida vencida pelo Jogador 1')\n",
        "elif resultado.count(2) > resultado.count(1):\n",
        "    print(f'Placar final: {resultado.count(1)} x {resultado.count(2)}')\n",
        "    print('Partida vencida pelo Pc')\n",
        "else:\n",
        "  print(f'Placar final: {resultado.count(1)} x {resultado.count(2)}')\n",
        "  print('Empate')"
      ]
    },
    {
      "cell_type": "markdown",
      "metadata": {
        "id": "5OzIXmXm9deL"
      },
      "source": [
        "[Blackjack](https://pt.wikipedia.org/wiki/Blackjack) - Vinte-e-um (21) é um dos mais icônicos jogos de cartas, onde um jogador real compete contra um jogador imaginário (a banca) para ver quem consegue o jogo de maior valor sem estourar o limite de 21 pontos.\n",
        "\n",
        "Por simplicidade, considere apenas as seguintes regras:\n",
        "- Cada jogador pode pedir uma carta por rodada ou dizer que quer parar de pedir.\n",
        "- O jogador que acumular mais de 21 pontos perde a partida.\n",
        "- Se o jogador e a banca atingirem o mesmo número de pontos, a partida termina empatada.\n",
        "- As cartas numéricas valem o número de pontos que elas indicam (ex: 2 vale 2, 10 vale 10).\n",
        "- As cartas de figuras (rei, valete e dama) valem 10 pontos.\n",
        "- O Ás vale 11 pontos.\n",
        "\n",
        "Escreva um código Python que te permite jogar blackjack contra o computador, escrevendo a cada rodada o valor do jogo de cada jogador e, ao final, o vencedor da partida."
      ]
    },
    {
      "cell_type": "code",
      "execution_count": 161,
      "metadata": {
        "colab": {
          "base_uri": "https://localhost:8080/"
        },
        "collapsed": true,
        "id": "LlgNOYI-9deL",
        "outputId": "06a2e037-dcc3-4e47-bf20-025fb7cae6a7"
      },
      "outputs": [
        {
          "name": "stdout",
          "output_type": "stream",
          "text": [
            "Mão Jogador: 7\n",
            "quer pegar uma carta?\n",
            "1- sim\n",
            "2- não\n",
            "1\n",
            "Mão Jogador 10\n",
            "quer pegar uma carta?\n",
            "1- sim\n",
            "2- não\n",
            "1\n",
            "Mão Jogador 13\n",
            "quer pegar uma carta?\n",
            "1- sim\n",
            "2- não\n",
            "1\n",
            "Mão Jogador 17\n",
            "quer pegar uma carta?\n",
            "1- sim\n",
            "2- não\n",
            "2\n",
            "Jogador 17 x Banca 15 \n",
            "Jogador ganhou\n"
          ]
        }
      ],
      "source": [
        "from random import randint\n",
        "\n",
        "banca = randint(1,21)\n",
        "jogador = randint(1,11)\n",
        "\n",
        "print(f'Mão Jogador: {jogador}')\n",
        "\n",
        "while jogador < 21:\n",
        "  carta = int(input('quer pegar uma carta?\\n1- sim\\n2- não\\n'))\n",
        "  if carta == 1:\n",
        "    jogador += randint(1,11)\n",
        "    print('Mão Jogador',jogador)\n",
        "  elif carta == 2:\n",
        "    break\n",
        "\n",
        "if jogador != banca:\n",
        "  print(f'Jogador {jogador} x Banca {banca} \\nJogador ganhou')if jogador > banca and jogador <= 21 else print(f'Jogador {jogador} x Banca {banca} \\nBanca ganhou')\n",
        "if jogador == banca:\n",
        "  print(f'Jogador {jogador} x Banca {banca} \\nEmpate')\n",
        "  \n",
        "\n"
      ]
    }
  ],
  "metadata": {
    "colab": {
      "provenance": []
    },
    "kernelspec": {
      "display_name": "Python 3",
      "language": "python",
      "name": "python3"
    },
    "language_info": {
      "codemirror_mode": {
        "name": "ipython",
        "version": 3
      },
      "file_extension": ".py",
      "mimetype": "text/x-python",
      "name": "python",
      "nbconvert_exporter": "python",
      "pygments_lexer": "ipython3",
      "version": "3.6.8"
    }
  },
  "nbformat": 4,
  "nbformat_minor": 0
}

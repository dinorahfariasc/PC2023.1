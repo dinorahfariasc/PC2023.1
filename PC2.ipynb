{
  "nbformat": 4,
  "nbformat_minor": 0,
  "metadata": {
    "colab": {
      "provenance": [],
      "authorship_tag": "ABX9TyPxbyUcUfv6s191ghLv+gdE",
      "include_colab_link": true
    },
    "kernelspec": {
      "name": "python3",
      "display_name": "Python 3"
    },
    "language_info": {
      "name": "python"
    }
  },
  "cells": [
    {
      "cell_type": "markdown",
      "metadata": {
        "id": "view-in-github",
        "colab_type": "text"
      },
      "source": [
        "<a href=\"https://colab.research.google.com/github/dinorahfariasc/PC2023.1/blob/main/PC2.ipynb\" target=\"_parent\"><img src=\"https://colab.research.google.com/assets/colab-badge.svg\" alt=\"Open In Colab\"/></a>"
      ]
    },
    {
      "cell_type": "markdown",
      "source": [
        "# Propriedade dos números\n"
      ],
      "metadata": {
        "id": "LHPq36yk0sfo"
      }
    },
    {
      "cell_type": "code",
      "execution_count": 5,
      "metadata": {
        "colab": {
          "base_uri": "https://localhost:8080/"
        },
        "id": "Tdj92Fgz0hi1",
        "outputId": "efd18546-2e70-4640-d7e8-0d13be86b84f"
      },
      "outputs": [
        {
          "output_type": "stream",
          "name": "stdout",
          "text": [
            "digite uma opcao: \n",
            " 1 - para multiplos de 6\n",
            " 2 - para primo ou composto\n",
            "1\n",
            "digite um numero: 46\n",
            "multiplos de 6 menores que 48: [6, 12, 18, 24, 30, 36, 42]\n",
            "proximo numero multiplo de 6: 48\n"
          ]
        }
      ],
      "source": [
        "# multiplos de 6\n",
        "esc = int(input(\"digite uma opcao: \\n 1 - para multiplos de 6\\n 2 - para primo ou composto\\n\"))\n",
        "if esc == 1:\n",
        "    num = int(input(\"digite um numero: \"))\n",
        "    multiplos = []\n",
        "    c = 0\n",
        "    for x in range(1, num):\n",
        "        if x % 6 == 0 and x < num:\n",
        "            multiplos.append(x)\n",
        "\n",
        "    while c == 0:\n",
        "        num += 1\n",
        "        if num % 6 == 0:\n",
        "            multiplos.append(num)\n",
        "            c = 1\n",
        "            break\n",
        "    print(f\"multiplos de 6 menores que {num}: {multiplos[0:-1]}\\nproximo numero multiplo de 6: {multiplos[-1]}\")\n",
        "\n",
        "# primo ou composto\n",
        "elif esc == 2:\n",
        "    num = int(input(\"digite um numero: \"))\n",
        "    count = 0\n",
        "    for x in range(1, num + 1):\n",
        "        if num % x == 0:\n",
        "            count += 1\n",
        "    print(f\"o numero {num} é primo\") if count == 2 else print(f\"o numero {num} é composto\")"
      ]
    },
    {
      "cell_type": "markdown",
      "source": [
        "# Márveu versus Cápicon"
      ],
      "metadata": {
        "id": "HoVleOEB0s9d"
      }
    },
    {
      "cell_type": "code",
      "source": [
        "entradas = []\n",
        "for x in range(10):\n",
        "    entradas.append(int(input(\"digite um número: \")))\n",
        "\n",
        "# min e maximo3\n",
        "print(\"\\nMenor e maior entrada\")\n",
        "print(f\"Marveu: menor entrada = {min(entradas)}\")\n",
        "print(f\"Capicon: maior entrada = {max(entradas)}\\n\")\n",
        "\n",
        "print(\"Index minimo e maximo\")\n",
        "print(f\"Marveu: minimo foi o {entradas.index(min(entradas)) + 1}° numero informado\")\n",
        "print(f\"Capicon: maximo foi o {entradas.index(max(entradas)) + 1}° numero informado\\n\")\n",
        "\n",
        "print(\"Soma e produto\")\n",
        "print(f\"Marveu: soma das entrada = {sum(entradas)}\")\n",
        "produto = 1\n",
        "for x in entradas:\n",
        "    produto *= x\n",
        "print(f\"capicon: produto das entradas = {produto}\\n\")\n",
        "\n",
        "print(\"Media e mediana\")\n",
        "print(f\"Marveu: media das entradas = {sum(entradas) / (len(entradas))}\")\n",
        "mediana = 0\n",
        "if len(entradas) % 2 == 0:\n",
        "    ind = int((len(entradas) + 1) / 2)\n",
        "    mediana = round(entradas[ind] + entradas[ind + 1] / 2)\n",
        "else:\n",
        "    ind = int(len(entradas) / 2)\n",
        "    mediana = entradas[ind]\n",
        "\n",
        "print(f\"Capicon: mediana das entradas = {mediana}\\n\")"
      ],
      "metadata": {
        "colab": {
          "base_uri": "https://localhost:8080/"
        },
        "id": "fj82ItpC0tN-",
        "outputId": "6f19280d-d814-4976-9f90-fc28f46a71d0"
      },
      "execution_count": 8,
      "outputs": [
        {
          "output_type": "stream",
          "name": "stdout",
          "text": [
            "digite um número: 1\n",
            "digite um número: 2\n",
            "digite um número: 3\n",
            "digite um número: 4\n",
            "digite um número: 5\n",
            "digite um número: 6\n",
            "digite um número: 7\n",
            "digite um número: 8\n",
            "digite um número: 9\n",
            "digite um número: 10\n",
            "\n",
            "Menor e maior entrada\n",
            "Marveu: menor entrada = 1\n",
            "Capicon: maior entrada = 10\n",
            "\n",
            "Index minimo e maximo\n",
            "Marveu: minimo foi o 1° numero informado\n",
            "Capicon: maximo foi o 10° numero informado\n",
            "\n",
            "Soma e produto\n",
            "Marveu: soma das entrada = 55\n",
            "capicon: produto das entradas = 3628800\n",
            "\n",
            "Media e mediana\n",
            "Marveu: media das entradas = 5.5\n",
            "Capicon: mediana das entradas = 10\n",
            "\n"
          ]
        }
      ]
    },
    {
      "cell_type": "markdown",
      "source": [
        "# Lançe os dados"
      ],
      "metadata": {
        "id": "llLYcHUr0wKh"
      }
    },
    {
      "cell_type": "code",
      "source": [
        "from random import randint\n",
        "\n",
        "tab = int(input(\"digite a quantidade de casas do tabuleiro: \"))\n",
        "passos1 = 0\n",
        "passos2 = 0\n",
        "\n",
        "for x in range(tab):\n",
        "    fabio = randint(1, 6)\n",
        "    print(f'fabio pode andar {fabio} casas')\n",
        "    passos1 += fabio\n",
        "    isa = randint(1, 6)\n",
        "    print(f'isa pode andar {isa} casas')\n",
        "    passos2 += isa\n",
        "    if passos1 >= tab:\n",
        "        print(\"fabio ganhou !\")\n",
        "        break\n",
        "    elif passos2 >= tab:\n",
        "        print(\"isa ganhou!!\")\n",
        "        break\n"
      ],
      "metadata": {
        "colab": {
          "base_uri": "https://localhost:8080/"
        },
        "id": "Q_fSuomZ0v88",
        "outputId": "bbed2825-db48-4628-bc9e-d79686732238"
      },
      "execution_count": 9,
      "outputs": [
        {
          "output_type": "stream",
          "name": "stdout",
          "text": [
            "digite a quantidade de casas do tabuleiro: 20\n",
            "fabio pode andar 3 casas\n",
            "isa pode andar 5 casas\n",
            "fabio pode andar 5 casas\n",
            "isa pode andar 1 casas\n",
            "fabio pode andar 3 casas\n",
            "isa pode andar 3 casas\n",
            "fabio pode andar 3 casas\n",
            "isa pode andar 6 casas\n",
            "fabio pode andar 2 casas\n",
            "isa pode andar 3 casas\n",
            "fabio pode andar 3 casas\n",
            "isa pode andar 5 casas\n",
            "isa ganhou!!\n"
          ]
        }
      ]
    },
    {
      "cell_type": "markdown",
      "source": [
        "# Três consecutivos"
      ],
      "metadata": {
        "id": "Hz9q3Cli0xRE"
      }
    },
    {
      "cell_type": "code",
      "source": [
        "soma = int(input(\"digite a soma: \"))\n",
        "meio = soma // 2\n",
        "count = 1\n",
        "resultado = \"\"\n",
        "for x in range(meio):\n",
        "    if count % 2 == 0:\n",
        "        if count + (count +2) + (count + 4) == soma:\n",
        "            resultado = \"SP\"\n",
        "    elif count % 2 != 0:\n",
        "        if count + (count + 2) + (count + 4) == soma:\n",
        "            resultado = \"SI\"\n",
        "    count += 1\n",
        "\n",
        "if resultado == \"\":\n",
        "    resultado = \"N\"\n",
        "print(resultado)"
      ],
      "metadata": {
        "colab": {
          "base_uri": "https://localhost:8080/"
        },
        "id": "6lwkxnNs0w9W",
        "outputId": "196ef8ee-fbaa-4273-c1f6-24b6a527eef9"
      },
      "execution_count": 10,
      "outputs": [
        {
          "output_type": "stream",
          "name": "stdout",
          "text": [
            "digite a soma: 48\n",
            "SP\n"
          ]
        }
      ]
    }
  ]
}
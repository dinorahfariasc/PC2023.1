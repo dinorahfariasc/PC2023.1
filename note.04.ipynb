{
  "cells": [
    {
      "cell_type": "markdown",
      "metadata": {
        "id": "HKmT6cDjfsll"
      },
      "source": [
        "<small><small><i>\n",
        "Este notebook foi baseado nos notebooks disponíveis em [https://gitlab.erc.monash.edu.au/andrease/Python4Maths.git]\n",
        "</i></small></small>"
      ]
    },
    {
      "cell_type": "markdown",
      "metadata": {
        "id": "AvV9PSigfslq"
      },
      "source": [
        "# Reaproveitando código\n",
        "\n",
        "Uma outra maneira de utilizar um código múltiplas vezes é através de **procedimentos**.\n",
        "\n",
        "Um procedimento é um conjunto de instruções agrupados em um bloco que recebem um nome e podem ser chamados quantas vezes for necessário.\n",
        "\n",
        "Nos roteiros anteriores, você já vem usando procedimentos como ```input()```, ```print()``` e ```randint()```.\n",
        "\n",
        "Você também pode criar seus próprios procedimentos usando o seguinte padrão:\n",
        "\n",
        "```python\n",
        "def nome():\n",
        "    instrucao\n",
        "    instrucao\n",
        "    ...\n",
        "```\n",
        "\n",
        "O padrão acima pode ser lido como ```definir``` um procedimento chamado ```nome```, que executará o seguinte bloco de instruções.\n",
        "\n",
        "As regras básicas para a **definição e uso de procedimentos** em Python são:\n",
        "\n",
        "* O trecho de código delimitado por um procedimento é chamado bloco e deve ser identado.\n",
        "* Um procedimento é chamado utilizando a notação ```nome()```."
      ]
    },
    {
      "cell_type": "code",
      "execution_count": 1,
      "metadata": {
        "colab": {
          "base_uri": "https://localhost:8080/"
        },
        "id": "ecJUH_hzfslr",
        "outputId": "6085a2cb-3f83-4afa-8a25-c5394cca8ab1"
      },
      "outputs": [
        {
          "output_type": "stream",
          "name": "stdout",
          "text": [
            "Bom dia!\n"
          ]
        }
      ],
      "source": [
        "def bom_dia():\n",
        "    print(\"Bom dia!\")\n",
        "\n",
        "bom_dia()"
      ]
    },
    {
      "cell_type": "markdown",
      "metadata": {
        "id": "sh5_qFHMfslt"
      },
      "source": [
        "### Exercícios de fixação"
      ]
    },
    {
      "cell_type": "markdown",
      "metadata": {
        "id": "_3Awm1JMfslt"
      },
      "source": [
        "1 - Crie um procedimento ```aleatorio()``` que imprima um inteiro aleatorio pertencente ao intervalo [1,60]."
      ]
    },
    {
      "cell_type": "code",
      "execution_count": 3,
      "metadata": {
        "collapsed": true,
        "colab": {
          "base_uri": "https://localhost:8080/"
        },
        "id": "mn3C1rtYfslu",
        "outputId": "574a0cde-0ea3-44ff-c628-8ca8a88b305e"
      },
      "outputs": [
        {
          "output_type": "stream",
          "name": "stdout",
          "text": [
            "36\n"
          ]
        }
      ],
      "source": [
        "from random import randint\n",
        "\n",
        "def aleatorio():\n",
        "  print(randint(1,60))\n",
        "\n",
        "aleatorio()"
      ]
    },
    {
      "cell_type": "markdown",
      "metadata": {
        "id": "r1xapxxlfslu"
      },
      "source": [
        "2 - Crie um procedimento mega_sena() que use o procedimento aleatorio() e imprima um jogo da mega sena."
      ]
    },
    {
      "cell_type": "code",
      "execution_count": 6,
      "metadata": {
        "collapsed": true,
        "colab": {
          "base_uri": "https://localhost:8080/"
        },
        "id": "dWEAI3zKfslv",
        "outputId": "6270febf-738f-45a1-8dab-5cb32bf2c822"
      },
      "outputs": [
        {
          "output_type": "stream",
          "name": "stdout",
          "text": [
            "Números Mega Sena da Virada 2024\n",
            "58 39 25 60 56 6 "
          ]
        }
      ],
      "source": [
        "from random import randint\n",
        "\n",
        "def aleatorio():\n",
        "  print(randint(1,60),end=' ')\n",
        "\n",
        "def mega_sena():\n",
        "  for i in range(6):\n",
        "    aleatorio()\n",
        "\n",
        "print('Números Mega Sena da Virada 2024')\n",
        "mega_sena()\n"
      ]
    },
    {
      "cell_type": "markdown",
      "metadata": {
        "id": "kDu5xVOufslv"
      },
      "source": [
        "## Customizando a execução de um procedimento"
      ]
    },
    {
      "cell_type": "markdown",
      "metadata": {
        "id": "VG5VLrSffslv"
      },
      "source": [
        "Você pode configurar o comportamento de um procedimento utilizando **parâmetros de chamada** (também conhecidos como *argumentos*).\n",
        "\n",
        "Não existe um limite para a quantidade de argumentos de um procedimento, mas você deve nomeá-los ao definir seu procedimento para poder utilizá-los como variáveis:\n",
        "\n",
        "```python\n",
        "def nome(arg1, arg2, ..., argN):\n",
        "    instrucao\n",
        "    instrucao\n",
        "    ...\n",
        "```\n"
      ]
    },
    {
      "cell_type": "code",
      "execution_count": null,
      "metadata": {
        "scrolled": true,
        "id": "G0V8aqZ7fslw"
      },
      "outputs": [],
      "source": [
        "def info_pessoa(nome, idade, email):\n",
        "    print(\"Nome:\", nome)\n",
        "    print(\"Idade:\", idade)\n",
        "    print(\"Email:\", email)\n",
        "\n",
        "info_pessoa(\"Leonardo Bezerra\", \"31\", \"leobezerra@imd.ufrn.br\")"
      ]
    },
    {
      "cell_type": "markdown",
      "metadata": {
        "id": "tZDtwFfIfslx"
      },
      "source": [
        "### Exercícios de fixação"
      ]
    },
    {
      "cell_type": "markdown",
      "metadata": {
        "id": "KzsAVlvQfslx"
      },
      "source": [
        "1 - Crie um procedimento ```media()``` que receba notas de 3 unidades de uma disciplina e calcule sua média."
      ]
    },
    {
      "cell_type": "code",
      "execution_count": 8,
      "metadata": {
        "collapsed": true,
        "colab": {
          "base_uri": "https://localhost:8080/"
        },
        "id": "jUpZ_UNHfslx",
        "outputId": "76b7bffe-dbdf-485f-85fb-879bb3cadfce"
      },
      "outputs": [
        {
          "output_type": "stream",
          "name": "stdout",
          "text": [
            "Média: 5.333333333333333\n"
          ]
        }
      ],
      "source": [
        "def media(n1,n2,n3):\n",
        "  print(f'Média: {(n1+n2+n3)/3}')\n",
        "\n",
        "media(0,8,8)"
      ]
    },
    {
      "cell_type": "markdown",
      "metadata": {
        "id": "l95_ODtXfslx"
      },
      "source": [
        "2 - Crie um procedimento ```fatorial()``` que receba um inteiro N e imprima seu fatorial."
      ]
    },
    {
      "cell_type": "code",
      "execution_count": 11,
      "metadata": {
        "collapsed": true,
        "colab": {
          "base_uri": "https://localhost:8080/"
        },
        "id": "NwPDcrCJfsly",
        "outputId": "bc0a512a-86b7-4f7a-eedd-3086b2c7d989"
      },
      "outputs": [
        {
          "output_type": "stream",
          "name": "stdout",
          "text": [
            "120\n"
          ]
        }
      ],
      "source": [
        "def fatorial(numero):  \n",
        "  resultado=1\n",
        "  count=1\n",
        "  while count <= numero:\n",
        "      resultado *= count\n",
        "      count += 1\n",
        "  print(resultado)\n",
        "\n",
        "fatorial(5)"
      ]
    },
    {
      "cell_type": "markdown",
      "metadata": {
        "id": "sGxR5-4vfsly"
      },
      "source": [
        "## Interrompendo a execução de um procedimento"
      ]
    },
    {
      "cell_type": "markdown",
      "metadata": {
        "id": "yumU6kBofsly"
      },
      "source": [
        "Assim como é possível interromper uma repetição usando o comando ```break```, é possível interromper a execução de um procedimento usando o comando ```return```."
      ]
    },
    {
      "cell_type": "code",
      "execution_count": 12,
      "metadata": {
        "scrolled": true,
        "colab": {
          "base_uri": "https://localhost:8080/"
        },
        "id": "yEhVd3lbfslz",
        "outputId": "806ec4ba-8733-449a-fc4d-7a041f40f290"
      },
      "outputs": [
        {
          "output_type": "stream",
          "name": "stdout",
          "text": [
            "Raiz: 2.0\n",
            "Raiz: 4.0\n"
          ]
        }
      ],
      "source": [
        "def raiz_quadrada(n):\n",
        "    if n < 0:\n",
        "        return\n",
        "    print(\"Raiz:\", n ** 0.5)\n",
        "\n",
        "raiz_quadrada(4)\n",
        "raiz_quadrada(16)\n",
        "raiz_quadrada(-1)"
      ]
    },
    {
      "cell_type": "markdown",
      "metadata": {
        "id": "3hWj3XDAfslz"
      },
      "source": [
        "### Exercícios de fixação"
      ]
    },
    {
      "cell_type": "markdown",
      "metadata": {
        "id": "9F4tlfzZfslz"
      },
      "source": [
        "1 - Crie um procedimento ```divisao_inteira()``` que imprima o resultado e o resto da divisão inteira de dois parâmetros inteiros. Se não houver resto, seu procedimento deverá imprimir apenas o resultado da divisão."
      ]
    },
    {
      "cell_type": "code",
      "execution_count": 14,
      "metadata": {
        "collapsed": true,
        "colab": {
          "base_uri": "https://localhost:8080/"
        },
        "id": "6xpnRFt3fsl0",
        "outputId": "010ac571-9410-46a5-a198-744afbf43389"
      },
      "outputs": [
        {
          "output_type": "stream",
          "name": "stdout",
          "text": [
            "2\n"
          ]
        }
      ],
      "source": [
        "def divisao_inteira(num1,num2 = int):\n",
        "  print(num1//num2)\n",
        "  if num1%num2 != 0:\n",
        "    print(num1%num2)\n",
        "\n",
        "divisao_inteira(4,2)"
      ]
    },
    {
      "cell_type": "markdown",
      "metadata": {
        "id": "Qo7HEr9ofsl0"
      },
      "source": [
        "## Produzindo um valor a partir de um procedimento"
      ]
    },
    {
      "cell_type": "markdown",
      "metadata": {
        "id": "Qw_BWTJnfsl0"
      },
      "source": [
        "Outro uso do comando ```return``` é permitir que um procedimento produza um resultado (retorne um valor).\n",
        "\n",
        "Tanto é possível retornar valores diretamente, como usando as varíaveis associadas a esses valores."
      ]
    },
    {
      "cell_type": "code",
      "execution_count": 15,
      "metadata": {
        "scrolled": true,
        "colab": {
          "base_uri": "https://localhost:8080/"
        },
        "id": "sJhz2OYPfsl1",
        "outputId": "04c48a40-96d9-465e-8187-dbb4d5074862"
      },
      "outputs": [
        {
          "output_type": "stream",
          "name": "stdout",
          "text": [
            "3\n",
            "10\n",
            "45\n"
          ]
        }
      ],
      "source": [
        "def soma_n_primeiros(n):\n",
        "    soma = 0\n",
        "    for i in range(n):\n",
        "        soma += i\n",
        "    return soma\n",
        "\n",
        "print(soma_n_primeiros(3))\n",
        "print(soma_n_primeiros(5))\n",
        "print(soma_n_primeiros(10))"
      ]
    },
    {
      "cell_type": "markdown",
      "metadata": {
        "id": "CnlcpVCDfsl1"
      },
      "source": [
        "### Exercícios de fixação"
      ]
    },
    {
      "cell_type": "markdown",
      "metadata": {
        "id": "piHN4fs1fsl1"
      },
      "source": [
        "1 - Crie um procedimento ```valor_absoluto()``` que retorne o valor absoluto de um parâmetro."
      ]
    },
    {
      "cell_type": "code",
      "execution_count": 16,
      "metadata": {
        "collapsed": true,
        "colab": {
          "base_uri": "https://localhost:8080/"
        },
        "id": "vkvXtryUfsl2",
        "outputId": "bba5c195-d184-476d-b339-6b5a0fde3255"
      },
      "outputs": [
        {
          "output_type": "execute_result",
          "data": {
            "text/plain": [
              "9"
            ]
          },
          "metadata": {},
          "execution_count": 16
        }
      ],
      "source": [
        "def valor_absoluto(valor):\n",
        "  if valor < 0:\n",
        "    valor *= -1\n",
        "  return valor\n",
        "\n",
        "valor_absoluto(-9)"
      ]
    },
    {
      "cell_type": "markdown",
      "metadata": {
        "id": "fzYi3Z1Wfsl2"
      },
      "source": [
        "## Usando procedimentos definidos por outros"
      ]
    },
    {
      "cell_type": "markdown",
      "metadata": {
        "id": "R1Uime3tfsl2"
      },
      "source": [
        "Um dos principais usos de procedimentos é a construção de **bibliotecas**, que são códigos criados por outras pessoas que você pode utilizar dentro do seu código.\n",
        "\n",
        "Nesta disciplina, você poderá **importar** procedimentos de bibliotecas de duas formas:\n",
        "- Importando procedimento(s) específico(s) de uma biblioteca\n",
        "```python\n",
        "from biblioteca import procedimento1, procedimento2, ..., procedimentoN\n",
        "```\n",
        "- Importando todos os procedimentos de uma biblioteca\n",
        "```python\n",
        "from biblioteca import *\n",
        "```"
      ]
    },
    {
      "cell_type": "markdown",
      "metadata": {
        "id": "ELxgfb25fsl2"
      },
      "source": [
        "### Exercícios de fixação"
      ]
    },
    {
      "cell_type": "markdown",
      "metadata": {
        "id": "8RODuRo6fsl3"
      },
      "source": [
        "1 - Em roteiros anteriores, você usou a função ```randint()```. Qual biblioteca fornece esse procedimento?"
      ]
    },
    {
      "cell_type": "markdown",
      "metadata": {
        "id": "a3D2Roy9fsl3"
      },
      "source": [
        "Resposta: random"
      ]
    },
    {
      "cell_type": "markdown",
      "metadata": {
        "id": "inCEoPgpfsl3"
      },
      "source": [
        "2 - Use os procedimentos ```sin()``` e ```floor()``` da biblioteca ```math``` para calcular o seno de um número e transformá-lo em um inteiro arredondando-o para baixo."
      ]
    },
    {
      "cell_type": "code",
      "execution_count": 22,
      "metadata": {
        "colab": {
          "base_uri": "https://localhost:8080/"
        },
        "id": "c076CKWSfsl3",
        "outputId": "0e86c59d-22a2-41eb-bbbe-895fa9cd828b"
      },
      "outputs": [
        {
          "output_type": "execute_result",
          "data": {
            "text/plain": [
              "0"
            ]
          },
          "metadata": {},
          "execution_count": 22
        }
      ],
      "source": [
        "from math import sin, floor\n",
        "\n",
        "def num_seno(num):\n",
        "  num = sin(num)\n",
        "  return floor(num)\n",
        "\n",
        "num_seno(90)"
      ]
    },
    {
      "cell_type": "markdown",
      "metadata": {
        "collapsed": true,
        "id": "1vsJ44Oafsl3"
      },
      "source": [
        "## Exercícios do URI"
      ]
    },
    {
      "cell_type": "markdown",
      "metadata": {
        "collapsed": true,
        "id": "Wfa-JCnzfsl4"
      },
      "source": [
        "[2630](https://www.urionlinejudge.com.br/judge/pt/problems/view/2630) - Sistemas de computação gráfica representam imagens como um conjunto de pontos (pixels) formados por três componentes: vermelho, verde e azul.\n",
        "\n",
        "Alguns algoritmos de processamento de imagem exigem um pré-processamento no qual é necessário transformar uma imagem colorida em uma imagem em tons de cinza. Esta conversão pode ser realizada de diversas maneiras, dependendo do resultado que se pretende obter.\n",
        "\n",
        "Para preservar a percepção das cores básicas pelo olho humano, uma conversão apropriada seria tomar 30% da componente vermelha (R), 59% da componente verde (G) e 11% da componente azul (B). Em termos matemáticos,\n",
        "\n",
        "P = 0,30R + 0,59G + 0,11B\n",
        "\n",
        "Outras abordagens possíveis seriam determinar o valor de P através da média aritmética das três componentes ou atribuir a P os valores da maior ou da menor entre as três componentes.\n",
        "\n",
        "Escreva um código Python que, dadas as componentes RGB de um pixel da imagem colorida, determine o valor do pixel P da imagem em tons de cinza correspondente, determinada a conversão a ser utilizada. Despreze a parte decimal do resultado, caso exista.\n",
        "\n",
        "A entrada consiste em T (1 ≤ T ≤ 100) casos de teste, onde o valor de T é dado na primeira linha da entrada. Cada caso de teste é composto por quatro linhas: a primeira linha contém a conversão a ser utilizada: eye para a primeira abordagem descrita, mean para a média aritmética, max para o valor da maior componente e min para o valor da menor componente. As demais linhas contêm os valores R, G, B (0 ≤ R, G, B ≤ 255) do pixel da imagem colorida.\n",
        "\n",
        "Para cada caso de testes dever ser impresso P, onde P é o nível de cinza do pixel da imagem em tons de cinza após a conversão do pixel da imagem colorida."
      ]
    },
    {
      "cell_type": "markdown",
      "source": [
        "P = 0,30R + 0,59G + 0,11B == eye\n",
        "\n",
        "mean =  valor de P através da média aritmética das três componentes\n",
        "\n",
        "max = valor maximo do componente\n",
        "\n",
        "min = valor minimo do componente"
      ],
      "metadata": {
        "id": "t2SywXbLxxFE"
      }
    },
    {
      "cell_type": "markdown",
      "metadata": {
        "id": "bEwsuozmfsl4"
      },
      "source": [
        "|.| Entrada | Saída |\n",
        "|-|:----:|:-:|\n",
        "| *Exemplo 1* | 3<br/>min<br/>35<br/>70<br/>35<br/>mean<br/>10<br/>74<br/>181<br/>eye<br/>23<br/>78<br/>197 | 35<br/>88<br/>74 | \n",
        "| *Exemplo 2* | 4<br/>min<br/>41<br/>27<br/>32<br/>min<br/>10<br/>21<br/>6<br/>max<br/>15<br/>41<br/>72<br/>max<br/>40<br/>21<br/>63 | 27<br/>6<br/>72<br/>41 | \n",
        "| *Exemplo 3* | 2<br/>eye<br/>7<br/>62<br/>200<br/>mean<br/>15<br/>49<br/>227 | 60<br/>97 | "
      ]
    },
    {
      "cell_type": "code",
      "source": [
        "from math import floor\n",
        "\n",
        "def rgb(testes= int(input())):\n",
        "  p = []\n",
        "  for i in range(testes):\n",
        "    abor = input()\n",
        "    cor = 0\n",
        "    r = int(input())\n",
        "    g = int(input())\n",
        "    b = int(input())\n",
        "    if abor == 'min':\n",
        "      cor = min(r,g,b)\n",
        "      p.append(cor)\n",
        "    elif abor == 'max':\n",
        "      cor = max(r,g,b)\n",
        "      p.append(cor)\n",
        "    elif abor == 'mean':\n",
        "      cor = (r+g+b)/3\n",
        "      p.append(cor)\n",
        "    elif abor == 'eye':\n",
        "      cor = 0.30 * r + 0.59 * g + 0.11 * b\n",
        "      p.append(cor)\n",
        "  for i in p:\n",
        "    print(floor(i))\n",
        "\n",
        "\n",
        "rgb()"
      ],
      "metadata": {
        "colab": {
          "base_uri": "https://localhost:8080/"
        },
        "id": "VdwE7Dwgv5GM",
        "outputId": "681186b0-741f-46f2-d032-ccb9110ea480"
      },
      "execution_count": 44,
      "outputs": [
        {
          "output_type": "stream",
          "name": "stdout",
          "text": [
            "3\n",
            "min\n",
            "35\n",
            "70\n",
            "35\n",
            "mean\n",
            "10\n",
            "74\n",
            "181\n",
            "eye\n",
            "23\n",
            "78\n",
            "197\n",
            "35\n",
            "88\n",
            "74\n"
          ]
        }
      ]
    },
    {
      "cell_type": "markdown",
      "metadata": {
        "id": "1ufFsutLfsmE"
      },
      "source": [
        "[2165](https://www.urionlinejudge.com.br/judge/pt/problems/view/2165) - O microblog Twitter é conhecido por limitar as postagens em 140 caracteres. Mais recentemente, alguns usuários como a @HBO_Brasil tiveram seus limites de caracteres dobrados para 280.\n",
        "\n",
        "Escreva um código que confira se um texto vai caber em um tuíte. Cada caso de teste é iniciado com um inteiro informando a qual limite o usuário tem direito. Caso o tamanho do caracter exceda esse limite, seu código deverá imprimir a mensagem NO. Caso contrário, seu código deverá imprimir a mensagem OK.\n"
      ]
    },
    {
      "cell_type": "markdown",
      "metadata": {
        "id": "nQvxwTIdfsmE"
      },
      "source": [
        "|.| Entrada | Saída |\n",
        "|-|----|:-:|\n",
        "| *Exemplo 1* | 280<br/>Agora dá: Daenerys Targaryen, Filha da Tormenta, Não Queimada, Mãe de Dragões, Rainha de Mereen,<br/>Rainha dos Ândalos e dos Primeiros Homens, Quebradora de Correntes, Senhora dos Sete Reinos,<br/>Khaleesi dos Dothraki, a Primeira de Seu Nome. Descendente da Casa Targaryen. | OK | \n",
        "| *Exemplo 2* | 140<br/>Jon Snow. Ele é Rei do Norte. | OK | \n",
        "| *Exemplo 3* | 140<br/>Fish fingers last night! Looking forward to meeting with<br/>Prime Minister @Netanyahu shortly. (Was thinking of making a joke on<br/>his name – Netanya-WHO!? but @IvankaTrump said best not.)<br/>Peace in the Middle East would be a truly great legacy for ALL people! | NO | \n",
        "\n",
        "\n"
      ]
    },
    {
      "cell_type": "code",
      "execution_count": 34,
      "metadata": {
        "collapsed": true,
        "colab": {
          "base_uri": "https://localhost:8080/"
        },
        "id": "M3kfnzx1fsmE",
        "outputId": "88607247-6716-49fd-ad91-82e2db9766fe"
      },
      "outputs": [
        {
          "output_type": "stream",
          "name": "stdout",
          "text": [
            "280\n",
            "Agora dá: Daenerys Targaryen, Filha da Tormenta, Não Queimada, Mãe de Dragões, Rainha de Mereen, Rainha dos Ândalos e dos Primeiros Homens, Quebradora de Correntes, Senhora dos Sete Reinos, Khaleesi dos Dothraki, a Primeira de Seu Nome. Descendente da Casa Targaryen.\n",
            "OK\n"
          ]
        }
      ],
      "source": [
        "def allow(carac=int(input()),text = input()):\n",
        "  if len(text) <= carac:\n",
        "    print('OK')\n",
        "  elif len(text) > carac:\n",
        "    print('NO')\n",
        "\n",
        "allow()"
      ]
    },
    {
      "cell_type": "markdown",
      "metadata": {
        "id": "K0OlkshHfsmF"
      },
      "source": [
        "3 - Em exercícios de notebooks anteriores, você implementou códigos para calcular a contribuição mensal de um trabalhador para o INSS e seu IRPF (imposto de renda pessoa física).\n",
        "\n",
        "Reuse seus códigos de forma modularizada para criar um código que leia o salário bruto de um trabalhador e imprima se salário líquido (descontados INSS e IRPF)."
      ]
    },
    {
      "cell_type": "markdown",
      "metadata": {
        "id": "h6w7VzzHfsmF"
      },
      "source": [
        "|.| Entrada | Saída |\n",
        "|-|:-:|-|\n",
        "| *Exemplo 1* | 1200.00 | 1104.00 | \n",
        "| *Exemplo 2* | 5485.00 | 4474.05 |\n",
        "| *Exemplo 3* | 10431.00 | 8059.90 |"
      ]
    },
    {
      "cell_type": "code",
      "execution_count": 33,
      "metadata": {
        "collapsed": true,
        "colab": {
          "base_uri": "https://localhost:8080/"
        },
        "id": "vVv5Ui_4fsmF",
        "outputId": "37d5c05f-b81f-4a17-9249-c8cfaa0865fa"
      },
      "outputs": [
        {
          "name": "stdout",
          "output_type": "stream",
          "text": [
            "1200\n"
          ]
        },
        {
          "output_type": "execute_result",
          "data": {
            "text/plain": [
              "1104.0"
            ]
          },
          "metadata": {},
          "execution_count": 33
        }
      ],
      "source": [
        "def sal_liquido(sal= float(input())):\n",
        "  saida = 0\n",
        "  if sal <= 1903.98 :\n",
        "    saida = 0\n",
        "    sal = sal - saida\n",
        "  elif sal > 1903.99 and sal <= 2826.65 :\n",
        "    saida = sal* 0.075 - 142.80\n",
        "    sal = sal - saida\n",
        "  elif sal > 2826.66 and sal <=  3751.05 :\n",
        "    saida = sal* 0.15 - 354.80\n",
        "    sal = sal - saida\n",
        "  elif sal > 3751.06 and sal <= 4664.68:\n",
        "    saida = sal *0.225 - 636.13\n",
        "    sal = sal - saida\n",
        "  elif sal >  4664.68:\n",
        "    saida = sal *0.275 - 869.36\n",
        "    sal = sal - saida\n",
        "\n",
        "    saida2 = 0\n",
        "  if sal <= 1693.72 :\n",
        "    saida2 = sal* 0.08\n",
        "    sal = sal - saida2\n",
        "  elif sal > 1693.72 and sal <= 2822.90 :\n",
        "    saida2 = sal* 0.09\n",
        "    sal = sal - saida2\n",
        "  elif sal > 2822.91 and sal <= 5645.80 :\n",
        "    saida2 = sal* 0.11\n",
        "    sal = sal - saida2\n",
        "  elif sal >= 5645.81:\n",
        "    saida2 = 621.04\n",
        "    sal = sal - saida2\n",
        "  return(sal)\n",
        "\n",
        "sal_liquido()"
      ]
    }
  ],
  "metadata": {
    "kernelspec": {
      "display_name": "Python 3",
      "language": "python",
      "name": "python3"
    },
    "language_info": {
      "codemirror_mode": {
        "name": "ipython",
        "version": 3
      },
      "file_extension": ".py",
      "mimetype": "text/x-python",
      "name": "python",
      "nbconvert_exporter": "python",
      "pygments_lexer": "ipython3",
      "version": "3.6.8"
    },
    "colab": {
      "provenance": []
    }
  },
  "nbformat": 4,
  "nbformat_minor": 0
}
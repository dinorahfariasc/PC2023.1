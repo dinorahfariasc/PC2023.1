{
  "nbformat": 4,
  "nbformat_minor": 0,
  "metadata": {
    "colab": {
      "provenance": [],
      "authorship_tag": "ABX9TyORlQIImLTOTaJQRXX5WNZO",
      "include_colab_link": true
    },
    "kernelspec": {
      "name": "python3",
      "display_name": "Python 3"
    },
    "language_info": {
      "name": "python"
    }
  },
  "cells": [
    {
      "cell_type": "markdown",
      "metadata": {
        "id": "view-in-github",
        "colab_type": "text"
      },
      "source": [
        "<a href=\"https://colab.research.google.com/github/dinorahfariasc/PC2023.1/blob/main/PC1.ipynb\" target=\"_parent\"><img src=\"https://colab.research.google.com/assets/colab-badge.svg\" alt=\"Open In Colab\"/></a>"
      ]
    },
    {
      "cell_type": "markdown",
      "source": [
        "# Jogo da Adivinhação"
      ],
      "metadata": {
        "id": "cjIHLP8Yx2Ya"
      }
    },
    {
      "cell_type": "code",
      "execution_count": 1,
      "metadata": {
        "colab": {
          "base_uri": "https://localhost:8080/"
        },
        "id": "jInrQwKFxNbF",
        "outputId": "2c578cdf-5c16-471e-fc61-5f4f5c041a2d"
      },
      "outputs": [
        {
          "output_type": "stream",
          "name": "stdout",
          "text": [
            "Digite o modo\n",
            "1 - fácil\n",
            "2 - difícil2\n",
            "adivinhe um número entre 1 e 31: 4\n",
            "você errou, o número era maior\n",
            "adivinhe um número entre 1 e 31: 8\n",
            "você errou, o número era maior\n",
            "adivinhe um número entre 1 e 31: 20\n",
            "você errou, o número era maior\n",
            "adivinhe um número entre 1 e 31: 25\n",
            "você errou, o número era menor\n",
            "adivinhe um número entre 1 e 31: 23\n",
            "você acertou\n"
          ]
        }
      ],
      "source": [
        "from random import randint\n",
        "number = randint(1,31)\n",
        "op = int(input(\"Digite o modo\\n1 - fácil\\n2 - difícil\"))\n",
        "men = \"menor\"\n",
        "\n",
        "if op == 1:\n",
        "     num = int(input(\"adivinhe um número entre 1 e 31: \"))\n",
        "     men = \"menor\" if (num > number) else \"maior\"\n",
        "        #print(number)\n",
        "     if num == number:\n",
        "        print(\"você acertou\")\n",
        "     else:\n",
        "        print(f\"você errou, o número era {number}\")\n",
        "\n",
        "elif op == 2:\n",
        "    for i in range(5):\n",
        "        num = int(input(\"adivinhe um número entre 1 e 31: \"))\n",
        "        men = \"menor\" if (num > number) else \"maior\"\n",
        "        # print(number)\n",
        "        if num == number:\n",
        "            print(\"você acertou\")\n",
        "            break\n",
        "        else:\n",
        "            print(f\"você errou, o número era {men}\")\n",
        "\n"
      ]
    },
    {
      "cell_type": "markdown",
      "source": [
        "# Adiçao de cores"
      ],
      "metadata": {
        "id": "RtR33GLaxtCW"
      }
    },
    {
      "cell_type": "code",
      "source": [
        "cor = []\n",
        "\n",
        "print(\"digite a presença das cores\")\n",
        "ver = cor.append(int(input(\"vermelho: \")))\n",
        "azu = cor.append(int(input(\"verde: \")))\n",
        "ved = cor.append(int(input(\"azul: \")))\n",
        "\n",
        "def switch(cor):\n",
        "  if cor == [0,0,0]:\n",
        "    return print(\"cor preta\")\n",
        "  elif cor == [1,0,0]:\n",
        "    return print(\"cor vermelha\")\n",
        "  elif cor == [1,1,0]:\n",
        "    return print(\"cor amarela\")\n",
        "  elif cor == [1,1,1]:\n",
        "    return print(\"cor branca\")\n",
        "  elif cor == [1,0,1]:\n",
        "    return print(\"cor magenta\")\n",
        "  elif cor == [0,1,0]:\n",
        "    return print(\"cor verde\")\n",
        "  elif cor == [0,1,1]:\n",
        "    return print(\"cor ciano\")\n",
        "  elif cor == [0,0,1]:\n",
        "    return print(\"cor azul\")\n",
        "\n",
        "switch(cor)"
      ],
      "metadata": {
        "colab": {
          "base_uri": "https://localhost:8080/"
        },
        "id": "5YQC9UIixskW",
        "outputId": "1d045b42-aca8-4236-cfdd-d2454bba36f4"
      },
      "execution_count": 2,
      "outputs": [
        {
          "output_type": "stream",
          "name": "stdout",
          "text": [
            "digite a presença das cores\n",
            "vermelho: 0\n",
            "verde: 1\n",
            "azul: 1\n",
            "cor ciano\n"
          ]
        }
      ]
    },
    {
      "cell_type": "markdown",
      "source": [
        "# Jankenpo"
      ],
      "metadata": {
        "id": "2GbEt4rSyJpl"
      }
    },
    {
      "cell_type": "code",
      "source": [
        "from random import randint\n",
        "modo = int(input('escolha um modo de jogo \\nRodada única digite 1 \\nMelhor de cinco digite 2 \\n:'))\n",
        "\n",
        "res = []\n",
        "rodadas = [1,2,3,4,5]\n",
        "\n",
        "if modo == 1:\n",
        "  player = int(input('escolha sua opção \\nPedra - digite 1\\nPapel - digite 2\\nTesoura - digite 3\\n:'))\n",
        "  res.append(player)\n",
        "  pc = randint(1,3)\n",
        "  res.append(pc)\n",
        "\n",
        "  #print(res)\n",
        "\n",
        "  if res[0] - res[1] == 1:\n",
        "    print('o jogador venceu')\n",
        "  elif abs(res[0] - res[1]) == 2:\n",
        "    print('o jogador venceu')\n",
        "  elif res[0] - res[1] < 0:\n",
        "    print('o pc venceu')\n",
        "  elif abs(res[1] - res[0]) == 2:\n",
        "    print('o pc venceu')\n",
        "  elif player == pc:\n",
        "    print('deu empate')\n",
        "\n",
        "\n",
        "if modo == 2:\n",
        "  final = []\n",
        "  for i in rodadas:\n",
        "      res = []\n",
        "      player = int(input('escolha sua opção \\nPedra - digite 1\\nPapel - digite 2\\nTesoura - digite 3\\n:'))\n",
        "      res.append(player)\n",
        "      pc = randint(1,3)\n",
        "      res.append(pc)\n",
        "      print(res)\n",
        "\n",
        "      if player == pc:\n",
        "        print('deu empate')\n",
        "        rodadas.append(1)\n",
        "      elif res[0] - res[1] == 1 :\n",
        "        print('o jogador venceu')\n",
        "        final.append(1)\n",
        "      elif abs(res[0] - res[1]) == 2:\n",
        "        print('o jogador venceu')\n",
        "        final.append(1)\n",
        "      elif res[0] - res[1] < 0:\n",
        "        print('o pc venceu')\n",
        "        final.append(2)\n",
        "      elif abs(res[1] - res[0]) == 2:\n",
        "        print('o pc venceu')\n",
        "        final.append(2)\n",
        "\n",
        "      if final.count(1) == 3:\n",
        "        break\n",
        "      elif final.count(2) == 3:\n",
        "        break\n",
        "\n",
        "  print(final)\n",
        "  if final.count(1) > final.count(2):\n",
        "      print('jogador ganhou')\n",
        "  elif final.count(2) > final.count(1):\n",
        "      print('pc ganhou')\n"
      ],
      "metadata": {
        "colab": {
          "base_uri": "https://localhost:8080/"
        },
        "id": "KLxcGmcZyJQa",
        "outputId": "3492a0a3-26f2-4987-8640-cd18a6ffa093"
      },
      "execution_count": 5,
      "outputs": [
        {
          "output_type": "stream",
          "name": "stdout",
          "text": [
            "escolha um modo de jogo \n",
            "Rodada única digite 1 \n",
            "Melhor de cinco digite 2 \n",
            ":2\n",
            "escolha sua opção \n",
            "Pedra - digite 1\n",
            "Papel - digite 2\n",
            "Tesoura - digite 3\n",
            ":1\n",
            "[1, 2]\n",
            "o pc venceu\n",
            "escolha sua opção \n",
            "Pedra - digite 1\n",
            "Papel - digite 2\n",
            "Tesoura - digite 3\n",
            ":2\n",
            "[2, 3]\n",
            "o pc venceu\n",
            "escolha sua opção \n",
            "Pedra - digite 1\n",
            "Papel - digite 2\n",
            "Tesoura - digite 3\n",
            ":3\n",
            "[3, 2]\n",
            "o jogador venceu\n",
            "escolha sua opção \n",
            "Pedra - digite 1\n",
            "Papel - digite 2\n",
            "Tesoura - digite 3\n",
            ":3\n",
            "[3, 3]\n",
            "deu empate\n",
            "escolha sua opção \n",
            "Pedra - digite 1\n",
            "Papel - digite 2\n",
            "Tesoura - digite 3\n",
            ":2\n",
            "[2, 3]\n",
            "o pc venceu\n",
            "[2, 2, 1, 2]\n",
            "pc ganhou\n"
          ]
        }
      ]
    },
    {
      "cell_type": "markdown",
      "source": [
        "#  Histograma"
      ],
      "metadata": {
        "id": "_24Y9b1KyLZB"
      }
    },
    {
      "cell_type": "code",
      "source": [
        "intervalos = [[0,2.5],[2.5,5],[5,7.5],[7.5,10]]\n",
        "histo = [0,0,0,0]\n",
        "\n",
        "print('========== HISTOGRAMA ===========')\n",
        "func = int(input('escolha a funcionalidade\\n1- intervalo de uma nota\\n2- frequencia 30 notas\\n'))\n",
        "\n",
        "if func == 1:\n",
        "  histo1 = [0,0,0,0]\n",
        "  count2 = 0\n",
        "  nota = int(input('digite a nota: '))\n",
        "  for i in intervalos:\n",
        "    if nota >= i[0] and nota < i[1]:\n",
        "      histo1[count2] += 1\n",
        "    else:\n",
        "      count2 +=1\n",
        "  for i,x in zip(histo1,intervalos):\n",
        "    print(f'({x[0]} ; {x[1]}]: '+'*'*i)\n",
        "  print(f'({intervalos[3][0]} ; {intervalos[3][1]}): '+'*'*histo1[3])\n",
        "\n",
        "elif func == 2:\n",
        "  for i in range(30):\n",
        "\n",
        "    count = 0\n",
        "    nota = float(input('digite a nota: '))\n",
        "    for i in intervalos:\n",
        "      if nota >= i[0] and nota < i[1]:\n",
        "        histo[count] += 1\n",
        "      else:\n",
        "        count += 1\n",
        "  for i,x in zip(histo[:3],intervalos[:3]):\n",
        "    print(f'({x[0]} ; {x[1]}]: '+'*'*i)\n",
        "  print(f'({intervalos[3][0]} ; {intervalos[3][1]}): '+'*'*histo[3])"
      ],
      "metadata": {
        "colab": {
          "base_uri": "https://localhost:8080/"
        },
        "id": "WgjqZGzCyLyH",
        "outputId": "39974603-ee41-499f-b689-dbaeda96b593"
      },
      "execution_count": 14,
      "outputs": [
        {
          "output_type": "stream",
          "name": "stdout",
          "text": [
            "========== HISTOGRAMA ===========\n",
            "escolha a funcionalidade\n",
            "1- intervalo de uma nota\n",
            "2- frequencia 30 notas\n",
            "2\n",
            "digite a nota: 1\n",
            "digite a nota: 2\n",
            "digite a nota: 3\n",
            "digite a nota: 4\n",
            "digite a nota: 5\n",
            "digite a nota: 6\n",
            "digite a nota: 7\n",
            "digite a nota: 8\n",
            "digite a nota: 9\n",
            "digite a nota: 10\n",
            "digite a nota: 10\n",
            "digite a nota: 2\n",
            "digite a nota: 3.5\n",
            "digite a nota: 6.8\n",
            "digite a nota: 5\n",
            "digite a nota: 3\n",
            "digite a nota: 7\n",
            "digite a nota: 5\n",
            "digite a nota: 1\n",
            "digite a nota: 2.3\n",
            "digite a nota: 9\n",
            "digite a nota: 10\n",
            "digite a nota: 3\n",
            "digite a nota: 5\n",
            "digite a nota: 3\n",
            "digite a nota: 2\n",
            "digite a nota: 5.7\n",
            "digite a nota: 8.6\n",
            "digite a nota: 4\n",
            "digite a nota: 5\n",
            "(0 ; 2.5]: ******\n",
            "(2.5 ; 5]: *******\n",
            "(5 ; 7.5]: **********\n",
            "(7.5 ; 10): ****\n"
          ]
        }
      ]
    },
    {
      "cell_type": "markdown",
      "source": [
        "# choque de propagandas"
      ],
      "metadata": {
        "id": "6KTRuhS2y0JM"
      }
    },
    {
      "cell_type": "code",
      "source": [
        "primeirox1 = float(input(\"Insira a coordenada x do primeiro pop-up: \"))\n",
        "primeirox2 = float(input(\"Insira a coordenada x2 do primeiro  pop-up: \"))\n",
        "primeiroy1 = float(input(\"Insira a coordenada y do primeiro pop-up: \"))\n",
        "primeiroy2 = float(input(\"Insira a coordenada y2 do primeiro  pop-up: \"))\n",
        "segundox1 = float(input(\"Insira a coordenada x do segundo pop-up : \"))\n",
        "segundox2 = float(input(\"Insira a coordenada x2 do segundo pop-up : \"))\n",
        "segundoy1 = float(input(\"Insira a coordenada y do segundo pop-up : \"))\n",
        "segundoy2 = float(input(\"Insira a coordenada y2 do segundo pop-up : \"))\n",
        "\n",
        "if max(primeirox1, segundox1) < min(primeirox2, segundox2) and max(primeiroy1, segundoy1) < min(primeiroy2, segundoy2):\n",
        "    print(\"Existe uma intersecção\")\n",
        "else:\n",
        "    print(\"Não há intersecção\")\n"
      ],
      "metadata": {
        "colab": {
          "base_uri": "https://localhost:8080/"
        },
        "id": "myJ2f3Fdyz59",
        "outputId": "7832d038-7a66-49b6-d06c-d2e8a636e5ad"
      },
      "execution_count": 15,
      "outputs": [
        {
          "output_type": "stream",
          "name": "stdout",
          "text": [
            "Insira a coordenada x do primeiro pop-up: 2\n",
            "Insira a coordenada x2 do primeiro  pop-up: 6\n",
            "Insira a coordenada y do primeiro pop-up: 1\n",
            "Insira a coordenada y2 do primeiro  pop-up: 5\n",
            "Insira a coordenada x do segundo pop-up : 4\n",
            "Insira a coordenada x2 do segundo pop-up : 5\n",
            "Insira a coordenada y do segundo pop-up : 3\n",
            "Insira a coordenada y2 do segundo pop-up : 8\n",
            "Existe uma intersecção\n"
          ]
        }
      ]
    }
  ]
}
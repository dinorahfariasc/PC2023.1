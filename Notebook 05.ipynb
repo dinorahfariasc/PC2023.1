{
  "cells": [
    {
      "cell_type": "markdown",
      "metadata": {
        "id": "DNRcyU5wKeJZ"
      },
      "source": [
        "# Abrindo a caixa de ferramentas\n",
        "\n",
        "Se você chegou até aqui, você já sabe tanto quanto a maior parte dos programadores iniciantes.\n",
        "\n",
        "Que tal saber um pouco mais? 😎\n",
        "\n",
        "## Iterando sobre coleções \n",
        "\n",
        "No roteiro 03, falamos que o `for` pode ter dois usos principais:\n",
        "\n",
        "| Estrutura | Significado |\n",
        "|:----:|:--|\n",
        "| ```for``` | Sabemos quantas vezes queremos executar um código.  <br> Queremos iterar sobre os elementos de uma coleção.|\n",
        "\n",
        "Naquele roteiro, nós estudamos apenas o primeiro uso do `for`. \n",
        "\n",
        "Vamos ver um exemplo do segundo caso:"
      ]
    },
    {
      "cell_type": "code",
      "execution_count": 2,
      "metadata": {
        "colab": {
          "base_uri": "https://localhost:8080/"
        },
        "id": "nsZJgzBCKeJg",
        "outputId": "a7f5e72d-3ac9-4715-87f7-734843989139"
      },
      "outputs": [
        {
          "output_type": "stream",
          "name": "stdout",
          "text": [
            "8\n",
            "2\n",
            "4\n",
            "6\n"
          ]
        }
      ],
      "source": [
        "pares = {2, 4, 6, 8}\n",
        "for p in pares:\n",
        "    print(p)"
      ]
    },
    {
      "cell_type": "markdown",
      "metadata": {
        "id": "2_AH_f1kKeJh"
      },
      "source": [
        "> Que loucura foi essa? 😱\n",
        "\n",
        "Vamos entender uma linha de cada vez:\n",
        "1. Em vez de associarmos `pares` a um valor, nós associamos a um **conjunto** de valores (um `set`). Em Python, a notação para criar um `set` é listar os valores separados por vírgulas, delimitados por chaves.\n",
        "2. A cada iteração, o `for` associa a variável `p` a um elemento do conjunto `pares`. Uma característica do `set` é que os elementos não são armazenados em ordem. Assim, a única certeza que temos é que o `for` vai iterar sobre todos os elementos, mas não podemos confiar na ordem dessa iteração!\n",
        "3. A variável `p` pode ser usada dentro do escopo do `for`.\n",
        "\n",
        "> Mas se não temos garantia de ordem, qual a vantagem de usar o `for` assim? 🤔\n",
        "\n",
        "Na verdade, o `set` é apenas um dos exemplos de **coleções** de dados do Python. \n",
        "\n",
        "No caso do `set`, seu uso principal é testar se um elemento existe no conjunto."
      ]
    },
    {
      "cell_type": "code",
      "execution_count": 3,
      "metadata": {
        "colab": {
          "base_uri": "https://localhost:8080/"
        },
        "id": "v_BAXi5wKeJi",
        "outputId": "c9e7ab5f-abb7-4647-8736-a7b1798cc5f9"
      },
      "outputs": [
        {
          "output_type": "execute_result",
          "data": {
            "text/plain": [
              "True"
            ]
          },
          "metadata": {},
          "execution_count": 3
        }
      ],
      "source": [
        "2 in pares"
      ]
    },
    {
      "cell_type": "code",
      "execution_count": 4,
      "metadata": {
        "colab": {
          "base_uri": "https://localhost:8080/"
        },
        "id": "wPy_xHp9KeJi",
        "outputId": "8b2bda93-c02b-4062-add4-f89c0ea5a01a"
      },
      "outputs": [
        {
          "output_type": "execute_result",
          "data": {
            "text/plain": [
              "False"
            ]
          },
          "metadata": {},
          "execution_count": 4
        }
      ],
      "source": [
        "1 in pares"
      ]
    },
    {
      "cell_type": "markdown",
      "metadata": {
        "id": "zlnZJonAKeJi"
      },
      "source": [
        "Para adicionar ou remover elementos de um conjunto, usamos as opções `add()` e `remove()`. No entanto, não é possível armazenar valores repetidos em um `set`."
      ]
    },
    {
      "cell_type": "code",
      "execution_count": 5,
      "metadata": {
        "colab": {
          "base_uri": "https://localhost:8080/"
        },
        "id": "e_4eydnsKeJj",
        "outputId": "f439da92-ea44-4ade-a749-7b024ca18cd0"
      },
      "outputs": [
        {
          "output_type": "stream",
          "name": "stdout",
          "text": [
            "{1, 3}\n"
          ]
        }
      ],
      "source": [
        "conjunto = {1, 2}\n",
        "conjunto.add(3)\n",
        "conjunto.remove(2)\n",
        "print(conjunto)"
      ]
    },
    {
      "cell_type": "code",
      "execution_count": 6,
      "metadata": {
        "colab": {
          "base_uri": "https://localhost:8080/"
        },
        "id": "Dy78qzfiKeJj",
        "outputId": "b29da99b-28f8-4b87-daf3-ca8a188a6671"
      },
      "outputs": [
        {
          "output_type": "stream",
          "name": "stdout",
          "text": [
            "{2, 4}\n",
            "{1, 3}\n"
          ]
        }
      ],
      "source": [
        "duplicados = {2, 2, 4, 4}\n",
        "print(duplicados)\n",
        "conjunto.add(3)\n",
        "print(conjunto)"
      ]
    },
    {
      "cell_type": "markdown",
      "metadata": {
        "id": "xwIDVCy1KeJk"
      },
      "source": [
        "Também é possível realizar operações típicas de conjuntos utilizado `sets`, como união, intersecção e diferença. "
      ]
    },
    {
      "cell_type": "code",
      "execution_count": 7,
      "metadata": {
        "scrolled": true,
        "colab": {
          "base_uri": "https://localhost:8080/"
        },
        "id": "2L4JK9UWKeJk",
        "outputId": "6c7a5561-dbf6-47b5-891d-74710dded287"
      },
      "outputs": [
        {
          "output_type": "execute_result",
          "data": {
            "text/plain": [
              "{1, 2, 3, 4, 5, 6, 7, 8}"
            ]
          },
          "metadata": {},
          "execution_count": 7
        }
      ],
      "source": [
        "impares = {1, 3, 5, 7}\n",
        "impares | pares"
      ]
    },
    {
      "cell_type": "code",
      "execution_count": 8,
      "metadata": {
        "scrolled": true,
        "colab": {
          "base_uri": "https://localhost:8080/"
        },
        "id": "305GYrOyKeJk",
        "outputId": "bd3fb11a-f8f3-4d23-e2d6-1a294e38a42d"
      },
      "outputs": [
        {
          "output_type": "execute_result",
          "data": {
            "text/plain": [
              "set()"
            ]
          },
          "metadata": {},
          "execution_count": 8
        }
      ],
      "source": [
        "impares & pares"
      ]
    },
    {
      "cell_type": "code",
      "execution_count": 9,
      "metadata": {
        "colab": {
          "base_uri": "https://localhost:8080/"
        },
        "id": "rz-bpPMVKeJl",
        "outputId": "817ee0c5-02f9-4e8d-f976-1e28eeeaaeeb"
      },
      "outputs": [
        {
          "output_type": "execute_result",
          "data": {
            "text/plain": [
              "{1, 3, 5, 7}"
            ]
          },
          "metadata": {},
          "execution_count": 9
        }
      ],
      "source": [
        "impares - pares"
      ]
    },
    {
      "cell_type": "markdown",
      "metadata": {
        "id": "YEya8mn_KeJl"
      },
      "source": [
        "> `set()` é a forma como o Python representa um conjunto vazio."
      ]
    },
    {
      "cell_type": "markdown",
      "metadata": {
        "id": "KGNmHaiuKeJl"
      },
      "source": [
        "### Exercícios de fixação"
      ]
    },
    {
      "cell_type": "markdown",
      "metadata": {
        "id": "I1mq4rBdKeJl"
      },
      "source": [
        "1 - Crie um conjunto `primos` que contenha 5 números primos entre 2 e 100 escolhidos aleatoriamente."
      ]
    },
    {
      "cell_type": "code",
      "execution_count": 87,
      "metadata": {
        "colab": {
          "base_uri": "https://localhost:8080/"
        },
        "id": "y2nX-ossKeJm",
        "outputId": "d0fcffac-c9d5-45c4-ca81-928f03f309e7"
      },
      "outputs": [
        {
          "output_type": "stream",
          "name": "stdout",
          "text": [
            "{37, 5, 7, 83, 89}\n"
          ]
        }
      ],
      "source": [
        "from random import randint\n",
        "\n",
        "primo = set()\n",
        "\n",
        "while len(primo) != 5:\n",
        "  num = randint(2,100)\n",
        "  cont = 0\n",
        "  for x in range(2,num):\n",
        "    if num % x == 0:\n",
        "      cont += 1\n",
        "  if cont == 0:\n",
        "    primo.add(num)\n",
        "\n",
        "print(primo)"
      ]
    },
    {
      "cell_type": "markdown",
      "metadata": {
        "id": "t1SDhVRnKeJm"
      },
      "source": [
        "2 - Crie um conjunto `fibonacci` que contenha 5 números da série de Fibonacci entre 2 e 100 escolhidos aleatoriamente."
      ]
    },
    {
      "cell_type": "code",
      "execution_count": 88,
      "metadata": {
        "colab": {
          "base_uri": "https://localhost:8080/"
        },
        "id": "2Em9-eYHKeJm",
        "outputId": "5123905e-10e2-4ece-b602-fca0fa78e4e8"
      },
      "outputs": [
        {
          "output_type": "stream",
          "name": "stdout",
          "text": [
            "{1, 2, 34, 13, 21}\n"
          ]
        }
      ],
      "source": [
        "numeros = set()\n",
        "\n",
        "seq = {0: 0, 1: 1}\n",
        "\n",
        "def fibonacci_of(n):\n",
        "  if n in seq:\n",
        "        return seq[n]\n",
        "  seq[n] = fibonacci_of(n - 1) + fibonacci_of(n - 2)\n",
        "  return seq[n]\n",
        "\n",
        "while len(numeros) != 5:\n",
        "  teste = randint(1,11)\n",
        "  numeros.add(fibonacci_of(teste))\n",
        "\n",
        "print(numeros)  "
      ]
    },
    {
      "cell_type": "markdown",
      "metadata": {
        "id": "I0wmHKmGKeJm"
      },
      "source": [
        "3 - Verifique se algum número sorteado nos exemplos anteriores pertence ao mesmo tempo a `primos` e a `fibonacci`."
      ]
    },
    {
      "cell_type": "code",
      "execution_count": 89,
      "metadata": {
        "colab": {
          "base_uri": "https://localhost:8080/"
        },
        "id": "OSoZ0mJvKeJm",
        "outputId": "8383d155-0e2d-4716-e5fe-84124a9ab978"
      },
      "outputs": [
        {
          "output_type": "execute_result",
          "data": {
            "text/plain": [
              "set()"
            ]
          },
          "metadata": {},
          "execution_count": 89
        }
      ],
      "source": [
        "primo & numeros"
      ]
    },
    {
      "cell_type": "markdown",
      "metadata": {
        "id": "4PJlyPoeKeJm"
      },
      "source": [
        "## Coleções associativas"
      ]
    },
    {
      "cell_type": "markdown",
      "metadata": {
        "id": "C-T8RITyKeJn"
      },
      "source": [
        "Um outro tipo de coleção disponível no Python são os **dicionários** (`dict`), que além das operações básicas de conjuntos possuem também a capacidade de **associação**.\n",
        "\n",
        "Em um `dict`, um conjunto de **chaves** (`keys`) está associado a **valores** (`values`). Veja o exemplo abaixo:"
      ]
    },
    {
      "cell_type": "code",
      "execution_count": 50,
      "metadata": {
        "id": "I0-FJ2yjKeJn"
      },
      "outputs": [],
      "source": [
        "Leonardo = {\"inglês\": \"fluente\", \"espanhol\": \"fluente\", \"italiano\": \"conversa\"}\n",
        "Júlia = {\"inglês\": \"compreende\"}"
      ]
    },
    {
      "cell_type": "markdown",
      "metadata": {
        "id": "9kAP_7qxKeJn"
      },
      "source": [
        "Chaves:"
      ]
    },
    {
      "cell_type": "code",
      "execution_count": 51,
      "metadata": {
        "scrolled": false,
        "colab": {
          "base_uri": "https://localhost:8080/"
        },
        "id": "ZeqTu13NKeJn",
        "outputId": "dd3afdda-fa4f-4c1d-dcd6-9156336cd105"
      },
      "outputs": [
        {
          "output_type": "stream",
          "name": "stdout",
          "text": [
            "inglês\n",
            "espanhol\n",
            "italiano\n"
          ]
        }
      ],
      "source": [
        "for key in Leonardo.keys():\n",
        "    print(key)"
      ]
    },
    {
      "cell_type": "markdown",
      "metadata": {
        "id": "tj8W_XuaKeJn"
      },
      "source": [
        "Valores:"
      ]
    },
    {
      "cell_type": "code",
      "execution_count": 52,
      "metadata": {
        "colab": {
          "base_uri": "https://localhost:8080/"
        },
        "id": "zQcQ8NHtKeJo",
        "outputId": "f76f1eea-e4b1-4193-841a-e725a9563b5a"
      },
      "outputs": [
        {
          "output_type": "stream",
          "name": "stdout",
          "text": [
            "fluente\n",
            "fluente\n",
            "conversa\n"
          ]
        }
      ],
      "source": [
        "for value in Leonardo.values():\n",
        "    print(value)"
      ]
    },
    {
      "cell_type": "markdown",
      "metadata": {
        "id": "jNfZLijYKeJo"
      },
      "source": [
        "Assim como no exemplo do `set`, não há garantia de ordem ao percorrer os elementos de um `dict`.\n",
        "\n",
        "No entanto, podemos fazer todas as operações de conjuntos sobre `keys`.\n",
        "\n",
        "- Idiomas em comum:"
      ]
    },
    {
      "cell_type": "markdown",
      "metadata": {
        "id": "UpDp9ZPDKeJo"
      },
      "source": []
    },
    {
      "cell_type": "code",
      "execution_count": 53,
      "metadata": {
        "scrolled": true,
        "colab": {
          "base_uri": "https://localhost:8080/"
        },
        "id": "0AIHxaK3KeJo",
        "outputId": "9ea1d80c-f4ed-4237-9f18-788d60609339"
      },
      "outputs": [
        {
          "output_type": "execute_result",
          "data": {
            "text/plain": [
              "{'inglês'}"
            ]
          },
          "metadata": {},
          "execution_count": 53
        }
      ],
      "source": [
        "Leonardo.keys() & Júlia.keys()"
      ]
    },
    {
      "cell_type": "markdown",
      "metadata": {
        "id": "QNGW_7f3KeJo"
      },
      "source": [
        "- Idiomas que Leonardo fala, mas Júlia não fala:"
      ]
    },
    {
      "cell_type": "code",
      "execution_count": 54,
      "metadata": {
        "scrolled": true,
        "colab": {
          "base_uri": "https://localhost:8080/"
        },
        "id": "uG6i1_pyKeJp",
        "outputId": "bfe04a83-041b-466b-b5dc-b492f91e83d9"
      },
      "outputs": [
        {
          "output_type": "execute_result",
          "data": {
            "text/plain": [
              "{'espanhol', 'italiano'}"
            ]
          },
          "metadata": {},
          "execution_count": 54
        }
      ],
      "source": [
        "Leonardo.keys() - Júlia.keys()"
      ]
    },
    {
      "cell_type": "markdown",
      "metadata": {
        "id": "jBQkrH7OKeJp"
      },
      "source": [
        "- Júlia fala espanhol?"
      ]
    },
    {
      "cell_type": "code",
      "execution_count": 55,
      "metadata": {
        "scrolled": true,
        "colab": {
          "base_uri": "https://localhost:8080/"
        },
        "id": "MXcF1aiGKeJp",
        "outputId": "c75ae405-cbdd-45dd-c6e2-5628bcb457c4"
      },
      "outputs": [
        {
          "output_type": "execute_result",
          "data": {
            "text/plain": [
              "False"
            ]
          },
          "metadata": {},
          "execution_count": 55
        }
      ],
      "source": [
        "\"espanhol\" in Júlia"
      ]
    },
    {
      "cell_type": "markdown",
      "metadata": {
        "id": "Kb7AaOY6KeJp"
      },
      "source": [
        "### Valores associados"
      ]
    },
    {
      "cell_type": "markdown",
      "metadata": {
        "id": "x7puI8ieKeJp"
      },
      "source": [
        "Além das operações de conjunto sobre as chaves, os valores armazenados em um dicionário podem ser acessados usando a chave correspondente:"
      ]
    },
    {
      "cell_type": "code",
      "execution_count": 56,
      "metadata": {
        "colab": {
          "base_uri": "https://localhost:8080/",
          "height": 36
        },
        "id": "hgqjjbsJKeJp",
        "outputId": "8bf01868-7590-4116-b2d0-9510a05a4a39"
      },
      "outputs": [
        {
          "output_type": "execute_result",
          "data": {
            "text/plain": [
              "'fluente'"
            ],
            "application/vnd.google.colaboratory.intrinsic+json": {
              "type": "string"
            }
          },
          "metadata": {},
          "execution_count": 56
        }
      ],
      "source": [
        "Leonardo[\"inglês\"]"
      ]
    },
    {
      "cell_type": "markdown",
      "metadata": {
        "id": "fnAZwVYuKeJp"
      },
      "source": [
        "Se buscarmos uma chave que não existe, teremos um erro:"
      ]
    },
    {
      "cell_type": "code",
      "execution_count": 57,
      "metadata": {
        "colab": {
          "base_uri": "https://localhost:8080/",
          "height": 172
        },
        "id": "PGDstDWRKeJq",
        "outputId": "97036990-c935-4574-aac9-09ab607fd444"
      },
      "outputs": [
        {
          "output_type": "error",
          "ename": "KeyError",
          "evalue": "ignored",
          "traceback": [
            "\u001b[0;31m---------------------------------------------------------------------------\u001b[0m",
            "\u001b[0;31mKeyError\u001b[0m                                  Traceback (most recent call last)",
            "\u001b[0;32m<ipython-input-57-a325c86d62f3>\u001b[0m in \u001b[0;36m<cell line: 1>\u001b[0;34m()\u001b[0m\n\u001b[0;32m----> 1\u001b[0;31m \u001b[0mLeonardo\u001b[0m\u001b[0;34m[\u001b[0m\u001b[0;34m\"alemão\"\u001b[0m\u001b[0;34m]\u001b[0m\u001b[0;34m\u001b[0m\u001b[0;34m\u001b[0m\u001b[0m\n\u001b[0m",
            "\u001b[0;31mKeyError\u001b[0m: 'alemão'"
          ]
        }
      ],
      "source": [
        "Leonardo[\"alemão\"]"
      ]
    },
    {
      "cell_type": "markdown",
      "metadata": {
        "id": "UpvVb0dmKeJz"
      },
      "source": [
        "Também é possível associar uma chave a um novo valor:"
      ]
    },
    {
      "cell_type": "code",
      "execution_count": 58,
      "metadata": {
        "colab": {
          "base_uri": "https://localhost:8080/",
          "height": 36
        },
        "id": "OCGgNW3QKeJz",
        "outputId": "8663bd35-14cd-4869-e3f0-ae816d0819b5"
      },
      "outputs": [
        {
          "output_type": "execute_result",
          "data": {
            "text/plain": [
              "'conversação'"
            ],
            "application/vnd.google.colaboratory.intrinsic+json": {
              "type": "string"
            }
          },
          "metadata": {},
          "execution_count": 58
        }
      ],
      "source": [
        "Leonardo[\"italiano\"] = \"conversação\"\n",
        "Leonardo[\"italiano\"]"
      ]
    },
    {
      "cell_type": "markdown",
      "metadata": {
        "id": "04RBrN4pKeJz"
      },
      "source": [
        "A operação de associação também aceita novas chaves. \n",
        "\n",
        "Neste caso, estamos acrescentando um novo par chave-valor ao `dict`. "
      ]
    },
    {
      "cell_type": "code",
      "execution_count": 59,
      "metadata": {
        "colab": {
          "base_uri": "https://localhost:8080/"
        },
        "id": "epgzOQyuKeJz",
        "outputId": "e8cf2d74-087a-488c-d7d2-e244f71ec048"
      },
      "outputs": [
        {
          "output_type": "stream",
          "name": "stdout",
          "text": [
            "{'inglês': 'fluente', 'espanhol': 'fluente', 'italiano': 'conversação', 'alemão': 'compra na Amazon'}\n"
          ]
        }
      ],
      "source": [
        "Leonardo[\"alemão\"] = \"compra na Amazon\"\n",
        "print(Leonardo)"
      ]
    },
    {
      "cell_type": "markdown",
      "metadata": {
        "id": "ZIjZgMeSKeJz"
      },
      "source": [
        "Para remover uma chave, usamos o comando `del`:"
      ]
    },
    {
      "cell_type": "code",
      "execution_count": 60,
      "metadata": {
        "scrolled": false,
        "colab": {
          "base_uri": "https://localhost:8080/"
        },
        "id": "q7Utuh_4KeJ0",
        "outputId": "1016e4e7-e02d-427e-eb5b-eab45ceb58df"
      },
      "outputs": [
        {
          "output_type": "stream",
          "name": "stdout",
          "text": [
            "{}\n"
          ]
        }
      ],
      "source": [
        "del Júlia[\"inglês\"]\n",
        "print(Júlia)"
      ]
    },
    {
      "cell_type": "markdown",
      "metadata": {
        "id": "ikVkJlHIKeJ0"
      },
      "source": [
        "> `{}` é a forma como o Python representa um dicionário vazio."
      ]
    },
    {
      "cell_type": "markdown",
      "metadata": {
        "id": "Ugjweot4KeJ0"
      },
      "source": [
        "### Exercícios de fixação"
      ]
    },
    {
      "cell_type": "markdown",
      "metadata": {
        "id": "3NZyHb54KeJ0"
      },
      "source": [
        "1 - Peça ao usuário para informar 10 números entre 0 e 30 e conte quantas vezes cada número foi informado."
      ]
    },
    {
      "cell_type": "code",
      "execution_count": 72,
      "metadata": {
        "colab": {
          "base_uri": "https://localhost:8080/"
        },
        "id": "9-0bzP6HKeJ0",
        "outputId": "f804a55c-5cb5-415b-af0b-73615679379c"
      },
      "outputs": [
        {
          "output_type": "stream",
          "name": "stdout",
          "text": [
            "digite um número entre 0 e 30: 3\n",
            "digite um número entre 0 e 30: 3\n",
            "digite um número entre 0 e 30: 4\n",
            "digite um número entre 0 e 30: 2\n",
            "digite um número entre 0 e 30: 6\n",
            "digite um número entre 0 e 30: 5\n",
            "digite um número entre 0 e 30: 6\n",
            "digite um número entre 0 e 30: 4\n",
            "digite um número entre 0 e 30: 8\n",
            "digite um número entre 0 e 30: 9\n",
            "{3: 2, 4: 2, 2: 1, 6: 2, 5: 1, 8: 1, 9: 1}\n"
          ]
        }
      ],
      "source": [
        "numeros = {}\n",
        "\n",
        "for i in range(10):\n",
        "  x = int(input('digite um número entre 0 e 30: '))\n",
        "  if x in numeros:\n",
        "    numeros[x] = numeros[x]+1\n",
        "  if x not in numeros:\n",
        "    numeros[x] = 1\n",
        "  \n",
        "print(numeros)\n"
      ]
    },
    {
      "cell_type": "markdown",
      "metadata": {
        "id": "EZ6qierJKeJ0"
      },
      "source": [
        "2 - Gere 10 números aleatórios entre 0 e 30 e conte quantas vezes cada número foi gerado."
      ]
    },
    {
      "cell_type": "code",
      "execution_count": 84,
      "metadata": {
        "colab": {
          "base_uri": "https://localhost:8080/"
        },
        "id": "cntu-Wj4KeJ0",
        "outputId": "d55e4666-e5d6-408b-d4ec-f32b6dd49519"
      },
      "outputs": [
        {
          "output_type": "stream",
          "name": "stdout",
          "text": [
            "{8: 1, 4: 1, 15: 1, 6: 1, 30: 2, 13: 1, 24: 1, 26: 1, 27: 1}\n"
          ]
        }
      ],
      "source": [
        "numeros2 = {}\n",
        "\n",
        "for i in range(10):\n",
        "  x = randint(0,30)\n",
        "  if x in numeros2:\n",
        "    numeros2[x] = numeros2[x]+1\n",
        "  if x not in numeros2:\n",
        "    numeros2[x] = 1\n",
        "  \n",
        "print(numeros2)"
      ]
    },
    {
      "cell_type": "markdown",
      "metadata": {
        "id": "LEGyrniCKeJ1"
      },
      "source": [
        "3 - Conte quantos números idênticos o usuário e o computador escolheram."
      ]
    },
    {
      "cell_type": "code",
      "execution_count": 86,
      "metadata": {
        "colab": {
          "base_uri": "https://localhost:8080/"
        },
        "id": "M9tNURMfKeJ1",
        "outputId": "b275a7c9-397c-4f95-b3cd-3d1c8c5b21cc"
      },
      "outputs": [
        {
          "output_type": "execute_result",
          "data": {
            "text/plain": [
              "{4, 6, 8}"
            ]
          },
          "metadata": {},
          "execution_count": 86
        }
      ],
      "source": [
        "numeros.keys() & numeros2.keys()"
      ]
    },
    {
      "cell_type": "markdown",
      "metadata": {
        "id": "7VXdZ0OBKeJ1"
      },
      "source": [
        "## Coleções com ordem"
      ]
    },
    {
      "cell_type": "markdown",
      "metadata": {
        "id": "l1GuLJ7XKeJ1"
      },
      "source": [
        "Nos exemplos de coleções que vimos até aqui, a ordem dos elementos não era preservada.\n",
        "\n",
        "**Por não preservar ordem, conjuntos e dicionários são muito rápidos em suas operações.**\n",
        "\n",
        "Em algumas situações, no entanto, precisamos usar coleções com ordem.\n",
        "\n",
        "Nesse notebook, vamos ver o caso das listas (`list`):"
      ]
    },
    {
      "cell_type": "code",
      "execution_count": 92,
      "metadata": {
        "scrolled": true,
        "colab": {
          "base_uri": "https://localhost:8080/"
        },
        "id": "l7JrYZnAKeJ1",
        "outputId": "8299eb14-8867-418a-9f7f-dd839fef6819"
      },
      "outputs": [
        {
          "output_type": "stream",
          "name": "stdout",
          "text": [
            "3\n",
            "5\n",
            "2\n",
            "4\n"
          ]
        }
      ],
      "source": [
        "espera = [3, 5, 2, 4]\n",
        "for pessoa in espera:\n",
        "    print(pessoa)"
      ]
    },
    {
      "cell_type": "markdown",
      "metadata": {
        "id": "LJeNblv6KeJ2"
      },
      "source": [
        "Em Python, a notação para criar uma `list` é listar os valores separados por vírgulas, delimitados por colchetes.\n",
        "\n",
        "A garantia de ordem das listas abre um novo mundo de possibilidades.\n",
        "\n",
        "Agora podemos, por exemplo, inserir um elemento no meio da lista, inclusive se ele já existir na lista:"
      ]
    },
    {
      "cell_type": "code",
      "execution_count": 93,
      "metadata": {
        "scrolled": true,
        "colab": {
          "base_uri": "https://localhost:8080/"
        },
        "id": "rbWCvXArKeJ2",
        "outputId": "b9e7ed70-02ac-421a-b83b-2ab25ef4fcf1"
      },
      "outputs": [
        {
          "output_type": "execute_result",
          "data": {
            "text/plain": [
              "[3, 5, 2, 5, 4]"
            ]
          },
          "metadata": {},
          "execution_count": 93
        }
      ],
      "source": [
        "espera.insert(3,5)\n",
        "espera"
      ]
    },
    {
      "cell_type": "markdown",
      "metadata": {
        "id": "iq0JFRAoKeJ2"
      },
      "source": [
        "> Opa, deu errado.. Eu mandei inserir na posição 3 ☹️"
      ]
    },
    {
      "cell_type": "markdown",
      "metadata": {
        "id": "zoQBdi4BKeJ3"
      },
      "source": [
        "Em linguagens que se prezam, a contagem de posições em uma coleção ordenada começa no índice 0. \n",
        "\n",
        "Podemos acessar posições de uma lista usando colchetes após seu nome:"
      ]
    },
    {
      "cell_type": "code",
      "execution_count": 94,
      "metadata": {
        "colab": {
          "base_uri": "https://localhost:8080/"
        },
        "id": "qMpSR5WkKeJ3",
        "outputId": "25be04b6-35e6-4800-f715-b0322d54e8e9"
      },
      "outputs": [
        {
          "output_type": "stream",
          "name": "stdout",
          "text": [
            "3\n"
          ]
        }
      ],
      "source": [
        "print(espera[0])"
      ]
    },
    {
      "cell_type": "code",
      "execution_count": 95,
      "metadata": {
        "colab": {
          "base_uri": "https://localhost:8080/"
        },
        "id": "MwXjJeNkKeJ3",
        "outputId": "7ff665cb-1e0f-4520-8a42-078a547e63b9"
      },
      "outputs": [
        {
          "output_type": "stream",
          "name": "stdout",
          "text": [
            "5\n"
          ]
        }
      ],
      "source": [
        "print(espera[1])"
      ]
    },
    {
      "cell_type": "code",
      "execution_count": 96,
      "metadata": {
        "colab": {
          "base_uri": "https://localhost:8080/"
        },
        "id": "ZszfREBiKeJ3",
        "outputId": "772c408a-3c17-44ff-eb4d-4cfb312f2d34"
      },
      "outputs": [
        {
          "output_type": "stream",
          "name": "stdout",
          "text": [
            "2\n"
          ]
        }
      ],
      "source": [
        "print(espera[2])"
      ]
    },
    {
      "cell_type": "code",
      "execution_count": 97,
      "metadata": {
        "scrolled": false,
        "colab": {
          "base_uri": "https://localhost:8080/"
        },
        "id": "XgNNi2UUKeJ3",
        "outputId": "4c5915d4-0aa0-48de-99c6-966422ebeaef"
      },
      "outputs": [
        {
          "output_type": "stream",
          "name": "stdout",
          "text": [
            "5\n"
          ]
        }
      ],
      "source": [
        "print(espera[3])"
      ]
    },
    {
      "cell_type": "markdown",
      "metadata": {
        "id": "mA07vcnRKeJ4"
      },
      "source": [
        "Também é possível remover um elemento de uma determinada posição:"
      ]
    },
    {
      "cell_type": "code",
      "execution_count": 98,
      "metadata": {
        "scrolled": false,
        "colab": {
          "base_uri": "https://localhost:8080/"
        },
        "id": "WgeaEIrrKeJ4",
        "outputId": "6eacc22e-9515-4414-8531-bd4798bda532"
      },
      "outputs": [
        {
          "output_type": "stream",
          "name": "stdout",
          "text": [
            "[3, 5, 2, 4]\n"
          ]
        }
      ],
      "source": [
        "espera.pop(3)\n",
        "print(espera)"
      ]
    },
    {
      "cell_type": "markdown",
      "metadata": {
        "id": "oVLFvMggKeJ4"
      },
      "source": [
        "Acessar posições de uma lista também é chamado de indexar a lista, já que usamos índices para representar as posições.\n",
        "\n",
        "Note que também seria possível iterar sobre os elementos de uma lista usando índices. \n",
        "\n",
        "Podemos fazer isso usando o procedimento `enumerate`, que permite iterar sobre uma lista tendo acesso ao índice e ao elemento ao mesmo tempo:"
      ]
    },
    {
      "cell_type": "code",
      "execution_count": 99,
      "metadata": {
        "colab": {
          "base_uri": "https://localhost:8080/"
        },
        "id": "j085AVgFKeJ4",
        "outputId": "9419d1d5-e3e0-4f6f-e3c8-55c3f6594c9c"
      },
      "outputs": [
        {
          "output_type": "stream",
          "name": "stdout",
          "text": [
            "0: 3\n",
            "1: 5\n",
            "2: 2\n",
            "3: 4\n"
          ]
        }
      ],
      "source": [
        "for índice, valor in enumerate(espera):\n",
        "    print(índice, \": \", valor, sep=\"\")"
      ]
    },
    {
      "cell_type": "markdown",
      "metadata": {
        "id": "M48Us7lGKeJ4"
      },
      "source": [
        "Um outro caso é quando precisamos seguir uma sequência diferente da ordem dos elementos na lista (avançando ou voltando ao longo da iteração). Neste caso, usamos o laço `while` e o procedimento `len`, que calcula o tamanho da lista.\n",
        "\n",
        "O código a seguir testa se uma palavra é um palíndromo, isto é, se ele pode ser lida tanto da esquerda para direita como da direita para esquerda:"
      ]
    },
    {
      "cell_type": "markdown",
      "metadata": {
        "id": "qFG6MoFoKeJ5"
      },
      "source": [
        "> Em Python, um texto pode ser tratado como uma lista de letras! 😱😮😳"
      ]
    },
    {
      "cell_type": "code",
      "execution_count": 100,
      "metadata": {
        "id": "5TRTAR7iKeJ5"
      },
      "outputs": [],
      "source": [
        "def palíndromo(palavra):\n",
        "    início = 0\n",
        "    fim = len(palavra) - 1\n",
        "    while início < fim:\n",
        "        if palavra[início] != palavra[fim]:\n",
        "            return False\n",
        "        início += 1\n",
        "        fim -= 1\n",
        "    return True"
      ]
    },
    {
      "cell_type": "code",
      "execution_count": 101,
      "metadata": {
        "scrolled": true,
        "colab": {
          "base_uri": "https://localhost:8080/"
        },
        "id": "iIB9IRSkKeJ5",
        "outputId": "745148f7-56d7-426e-fd59-76b612f4178b"
      },
      "outputs": [
        {
          "output_type": "execute_result",
          "data": {
            "text/plain": [
              "True"
            ]
          },
          "metadata": {},
          "execution_count": 101
        }
      ],
      "source": [
        "palíndromo(\"reviver\")"
      ]
    },
    {
      "cell_type": "code",
      "execution_count": 102,
      "metadata": {
        "scrolled": true,
        "colab": {
          "base_uri": "https://localhost:8080/"
        },
        "id": "Wt8Pt6gUKeJ5",
        "outputId": "a893d33b-e689-4322-90d5-3f0f2dad5988"
      },
      "outputs": [
        {
          "output_type": "execute_result",
          "data": {
            "text/plain": [
              "False"
            ]
          },
          "metadata": {},
          "execution_count": 102
        }
      ],
      "source": [
        "palíndromo(\"roma\")"
      ]
    },
    {
      "cell_type": "markdown",
      "metadata": {
        "id": "ih2zyVxaKeJ6"
      },
      "source": [
        "Algumas operações são tão comuns em listas que o Python oference um atalho para elas.\n",
        "\n",
        "Pra inserir um elemento no final, por exemplo, temos a opção `append`:"
      ]
    },
    {
      "cell_type": "code",
      "execution_count": 103,
      "metadata": {
        "colab": {
          "base_uri": "https://localhost:8080/"
        },
        "id": "qQbJoJNUKeJ6",
        "outputId": "95d1549d-3639-4200-8880-d6f91a2a9efb"
      },
      "outputs": [
        {
          "output_type": "stream",
          "name": "stdout",
          "text": [
            "[3, 5, 2, 4, 7]\n"
          ]
        }
      ],
      "source": [
        "espera.append(7)\n",
        "print(espera)"
      ]
    },
    {
      "cell_type": "markdown",
      "metadata": {
        "id": "XWunlZL0KeJ6"
      },
      "source": [
        "### Exercícios de fixação"
      ]
    },
    {
      "cell_type": "markdown",
      "source": [],
      "metadata": {
        "id": "QiNv6PTSkt7E"
      }
    },
    {
      "cell_type": "markdown",
      "metadata": {
        "id": "3zRFBqMiKeJ6"
      },
      "source": [
        "1 - Crie uma lista `só_pares` contendo 10 números gerados aleatoriamente entre 0 e 100."
      ]
    },
    {
      "cell_type": "code",
      "execution_count": 122,
      "metadata": {
        "id": "M3lpSH7qKeJ6"
      },
      "outputs": [],
      "source": [
        "só_pares = []\n",
        "for i in range(10): \n",
        "  num = randint(0,100)\n",
        "  só_pares.append(num)\n"
      ]
    },
    {
      "cell_type": "markdown",
      "metadata": {
        "id": "i5zpjQajKeJ6"
      },
      "source": [
        "2 - Processe a lista `só_pares` para que sobrem apenas números pares, utilizando uma sequência de remoções manuais."
      ]
    },
    {
      "cell_type": "code",
      "execution_count": 124,
      "metadata": {
        "colab": {
          "base_uri": "https://localhost:8080/"
        },
        "id": "Yusg1jo2KeJ7",
        "outputId": "f2597c9c-dc77-413d-d550-7537fe1e9536"
      },
      "outputs": [
        {
          "output_type": "stream",
          "name": "stdout",
          "text": [
            "[10, 12, 84, 98, 26]\n"
          ]
        }
      ],
      "source": [
        "for i in só_pares: \n",
        "  if i % 2 !=0:\n",
        "    só_pares.remove(i)\n",
        "print(só_pares)"
      ]
    },
    {
      "cell_type": "markdown",
      "metadata": {
        "id": "Az2n3dEwKeJ7"
      },
      "source": [
        "3 - Gere uma nova lista `alternados`, contendo 10 números gerados aleatoriamente entre 0 e 100. Após sua criação, processe a lista `alternados` de forma automatizada para que sobrem apenas números pares."
      ]
    },
    {
      "cell_type": "code",
      "execution_count": 172,
      "metadata": {
        "colab": {
          "base_uri": "https://localhost:8080/"
        },
        "id": "dVw7HhSSKeJ7",
        "outputId": "030dbfac-1373-4367-9fe3-fc02e7df53bc"
      },
      "outputs": [
        {
          "output_type": "stream",
          "name": "stdout",
          "text": [
            "[38, 6, 6, 80]\n"
          ]
        }
      ],
      "source": [
        "alternados = []\n",
        "for i in range(10):\n",
        "  num = randint(0,100) \n",
        "  alternados.append(num)\n",
        "\n",
        "  for i in alternados: \n",
        "    if i % 2 !=0:\n",
        "      alternados.remove(i)\n",
        "\n",
        "print(alternados)"
      ]
    },
    {
      "cell_type": "markdown",
      "metadata": {
        "id": "gCN_gHpwKeJ8"
      },
      "source": [
        "4 - Adicione números ímpares gerados aleatoriamente a `alternados`, de forma que após entre dois números pares haja apenas um número ímpar. "
      ]
    },
    {
      "cell_type": "code",
      "source": [
        "impares =[]\n",
        "while len(impares)!= len(alternados):\n",
        "  num2 = randint(0,100)\n",
        "  if num2 % 2 != 0:\n",
        "    impares.append(num2)\n",
        "    \n",
        "print(impares)\n",
        "cont = 1\n",
        "for x in impares: \n",
        "  ind = impares.index(x) + cont\n",
        "  alternados.insert(ind,x)\n",
        "  cont += 1\n",
        "\n",
        "print(alternados)"
      ],
      "metadata": {
        "colab": {
          "base_uri": "https://localhost:8080/"
        },
        "id": "URVJQ1BCmAx8",
        "outputId": "749bb327-9d9c-4474-c79d-74e48a9afe36"
      },
      "execution_count": 173,
      "outputs": [
        {
          "output_type": "stream",
          "name": "stdout",
          "text": [
            "[55, 15, 83, 7]\n",
            "[38, 55, 6, 15, 6, 83, 80, 7]\n"
          ]
        }
      ]
    },
    {
      "cell_type": "markdown",
      "metadata": {
        "id": "4vbrPeXiKeJ8"
      },
      "source": [
        "## Exercícios do URI"
      ]
    },
    {
      "cell_type": "markdown",
      "metadata": {
        "id": "rEBs3-mrKeJ8"
      },
      "source": [
        "[1281](https://www.urionlinejudge.com.br/judge/pt/problems/view/1281) - Dona Parcinova costuma ir regularmente à feira para comprar frutas e legumes. Ela pediu então à sua filha, Mangojata, que a ajudasse com as contas e que fizesse um programa que calculasse o valor que precisa levar para poder comprar tudo que está em sua lista de compras, considerando a quantidade de cada tipo de fruta ou legume e os preços destes itens.\n",
        "\n",
        "A primeira linha de entrada contém um inteiro N que indica a quantidade de idas à feira de dona Parcinova (que nada mais é do que o número de casos de teste que vem a seguir). Cada caso de teste inicia com um inteiro M que indica a quantidade de produtos que estão disponíveis para venda na feira. Seguem os M produtos com seus preços respectivos por unidade ou Kg. A próxima linha de entrada contém um inteiro P (1 ≤ P ≤ M) que indica a quantidade de diferentes produtos que dona Parcinova deseja comprar. Seguem P linhas contendo cada uma delas um texto e um valor inteiro, que indicam respectivamente o nome de cada produto e a quantidade deste produto.\n",
        "\n",
        "Para cada caso de teste, imprima o valor que será gasto por dona Parcinova, com 2 casas decimais, conforme o exemplo abaixo."
      ]
    },
    {
      "cell_type": "markdown",
      "metadata": {
        "id": "D4zQhpKMKeJ8"
      },
      "source": [
        "|.| Entrada | Saída |\n",
        "|-|:----:|:-:|\n",
        "| *Exemplo 1* | 4<br/>mamao 2.19<br/>cebola 3.10<br/>tomate 2.80<br/>uva 2.73<br/>3<br/>mamao 2<br/>tomate 1<br/>uva 3<br/> | 15.37 | \n",
        "| *Exemplo 2* | 5<br/>morango 6.70<br/>repolho 1.12<br/>brocolis 1.71<br/>tomate 2.80<br/>cebola 2.81<br/>4<br/>brocolis 2<br/>tomate 1<br/>cebola 1<br/>morango 1 | 15.73 | \n",
        "| *Exemplo 3* | 5<br/>ovos 8.45<br/>pão 3.10<br/>bacon 7.32<br/>iogurte 2.47<br/>coalhada 1.75<br/>3<br/>bacon 2<br/>ovos 1<br/>coalhada 4 | 30.09 | "
      ]
    },
    {
      "cell_type": "code",
      "execution_count": 234,
      "metadata": {
        "colab": {
          "base_uri": "https://localhost:8080/"
        },
        "id": "aGXPuZD-KeJ9",
        "outputId": "6a51fa87-1368-4705-8850-49630b27399d"
      },
      "outputs": [
        {
          "output_type": "stream",
          "name": "stdout",
          "text": [
            "4\n",
            "mamao 2.19\n",
            "cebola 3.10\n",
            "tomate 2.80\n",
            "uva 2.73\n",
            "3\n",
            "mamao 2\n",
            "tomate 1\n",
            "uva 3\n",
            "15.37\n"
          ]
        }
      ],
      "source": [
        "produto = str()\n",
        "preco = float()\n",
        "mercado = {}\n",
        "\n",
        "for i in range(int(input())):\n",
        "  m = input()\n",
        "  for i in m:\n",
        "    if i.isnumeric():\n",
        "      ind = m.index(i) # onde começa o valor\n",
        "      preco = float(m[ind:])\n",
        "      produto = m[0:ind]\n",
        "      break\n",
        "\n",
        "  for i in produto:  #associando produto e valores no dicionario\n",
        "    mercado[produto] = [preco]\n",
        "\n",
        "# pedido\n",
        "qnt = 0\n",
        "produto2 = str()\n",
        "valor = 0\n",
        "carrinho = []\n",
        "pagar =0 \n",
        "\n",
        "for x in range(int(input())):\n",
        "  pedidos = input()\n",
        "  for c in pedidos:\n",
        "    if c.isnumeric():\n",
        "      inde = pedidos.index(c)\n",
        "      qnt = int(pedidos[inde:])\n",
        "      produto2 = pedidos[0:inde]\n",
        "      valor = mercado[produto2]\n",
        "      for i in valor:\n",
        "        pagar = float(i) * qnt\n",
        "      carrinho.append(pagar)\n",
        "        \n",
        "print(sum(carrinho))"
      ]
    },
    {
      "cell_type": "markdown",
      "metadata": {
        "id": "Clj6NAiBKeJ9"
      },
      "source": [
        "[1104](https://www.urionlinejudge.com.br/judge/pt/problems/view/1104) - Alice e Beatriz colecionam cartas de Pokémon. As cartas são produzidas para um jogo que reproduz a batalha introduzida em um dos mais bem sucedidos jogos de videogame da história, mas Alice e Beatriz são muito pequenas para jogar, e estão interessadas apenas nas cartas propriamente ditas. Para facilitar, vamos considerar que cada carta possui um identificador único, que é um número inteiro.\n",
        "\n",
        "Cada uma das duas meninas possui um conjunto de cartas e, como a maioria das garotas de sua idade, gostam de trocar entre si as cartas que têm. Elas obviamente não têm interesse emtrocar cartas idênticas, que ambas possuem, e não querem receber cartas repetidas na troca. Além disso, as cartas serão trocadas em uma única operação de troca: Alice dá para Beatriz um sub-conjunto com N cartas distintas e recebe de volta um outro sub-conjunto com N cartas distintas.\n",
        "\n",
        "As meninas querem saber qual é o número máximo de cartas que podem ser trocadas. Por exemplo, se Alice tem o conjunto de cartas {1, 1, 2, 3, 5, 7, 8, 8, 9, 15} e Beatriz o conjunto {2, 2, 2, 3, 4, 6, 10, 11, 11}, elas podem trocar entre si no máximo quatro cartas. Escreva um código que, dados os conjuntos de cartas que Alice e Beatriz possuem, determine o número máximo de cartas que podem ser trocadas.\n",
        "\n",
        "A primeira linha da entrada contém números inteiros representando as cartas do conjunto de Alice, separados por um espaço em branco. A segunda linha contém números inteiros representando as cartas do conjunto de Beatriz. As cartas de Alice e Beatriz são apresentadas em ordem não decrescente.\n",
        "\n",
        "Imprima uma única linha, contendo um numero inteiro, indicando o número máximo de cartas que Alice e Beatriz podem trocar entre si."
      ]
    },
    {
      "cell_type": "markdown",
      "metadata": {
        "id": "OKKk6Y4uKeJ9"
      },
      "source": [
        "|.| Entrada | Saída |\n",
        "|-|:----:|:-:|\n",
        "| *Exemplo 1* | 1000<br/>1000 | 0 | \n",
        "| *Exemplo 2* | 1 3 5<br/>2 4 6 8 | 3 | \n",
        "| *Exemplo 3* | 1 1 2 3 5 7 8 8 9 15<br/>2 2 2 3 4 6 10 11 11 | 4 | "
      ]
    },
    {
      "cell_type": "code",
      "execution_count": null,
      "metadata": {
        "id": "AdsvkQYcKeJ9"
      },
      "outputs": [],
      "source": []
    },
    {
      "cell_type": "markdown",
      "metadata": {
        "id": "oU1nQOX5KeJ9"
      },
      "source": [
        "[1110](https://www.urionlinejudge.com.br/judge/pt/problems/view/1110) - Piotr é um canadense gente boa que veio morar no Brasil e nas horas vagas gosta de jogar cartas.\n",
        "\n",
        "Um dos jogos preferidos dele é o de adivinhar qual carta vai ficar por último no baralho, considerando as seguintes condições:\n",
        "- o deck de cartas contém apenas cartas de números. Se o deck tiver n cartas, essas cartas estarão numeradas de 1 a n e ordenadas, com a carta 1 no topo e a carta n no fundo. \n",
        "- a carta descartada é a que estiver no topo.\n",
        "- quando uma carta for descartada, a carta seguinte deverá ser movida para o fim do deck.\n",
        "\n",
        "Escreva um código que ajude os amigos de Piotr a derrotá-lo, descobrindo qual carta ficará por último no baralho.\n",
        "\n",
        "A entrada será um número que indicará quantas cartas têm no deck. A saída deverá ter duas linhas. Na primeira, informe as cartas descartadas, na sequência em que elas forem descartadas. Na segunda, informe a carta que ficou por último no deck."
      ]
    },
    {
      "cell_type": "markdown",
      "metadata": {
        "id": "BMnogjkSKeJ-"
      },
      "source": [
        "|.| Entrada | Saída |\n",
        "|-|:----:|:-:|\n",
        "| *Exemplo 1* | 7 | 1 3 5 7 4 2<br/>6 | \n",
        "| *Exemplo 2* | 10 | 1 3 5 7 9 2 6 10 8<br/>4 |\n",
        "| *Exemplo 3* | 6 | 1 3 5 2 6<br/> 4 | "
      ]
    },
    {
      "cell_type": "code",
      "execution_count": null,
      "metadata": {
        "id": "UyTgwrvgKeJ-"
      },
      "outputs": [],
      "source": []
    },
    {
      "cell_type": "markdown",
      "metadata": {
        "id": "S6lvEdp3KeJ-"
      },
      "source": [
        "## Exercícios do UVa"
      ]
    },
    {
      "cell_type": "markdown",
      "metadata": {
        "id": "3eTwKIK_KeJ-"
      },
      "source": [
        "[10226](https://uva.onlinejudge.org/index.php?option=onlinejudge&page=show_problem&problem=1167) - Madeira de lei é o grupo botânico de árvores que têm folhas largas, produzem um fruto ou uma noz e geralmente hibernam no inverno. O carvalho e a cerejeira, por exemplo, são tipos de madeira de lei, mas são de diferentes espécies. \n",
        "\n",
        "Usando tecnologia de mapeamento por satélite, o Departamento de Recursos Naturais catalogou todas as árvores existentes. Você precisa calcular o percentual que uma determinada espécie representa em relação à população inteira de árvores.\n",
        "\n",
        "A entrada consiste de uma lista de espécies observadas pelo satélite, uma árvore por linha. \n",
        "\n",
        "Seu código deverá imprimir o nome de cada espécie e seu percentual em relação à população total, considerando 4 casas decimais."
      ]
    },
    {
      "cell_type": "markdown",
      "metadata": {
        "id": "kDxwqG1EKeJ-"
      },
      "source": [
        "|.| Entrada | Saída |\n",
        "|-|:----:|:-:|\n",
        "| *Exemplo 1* | Red Alder<br/>Ash<br/>Aspen<br/>Basswood<br/>Ash<br/>Beech<br/>Yellow Birch<br/>Ash<br/>Beech<br/>Cottonwood | Red Alder 10.0000<br/>Ash 30.0000<br/>Aspen  10.0000<br/>Basswood 10.0000<br/>Beech 20.0000<br/>Yellow Birch 10.0000<br/>Cottonwood 10.0000 | \n",
        "| *Exemplo 2* | White Oak<br/>Hickory<br/>Pecan<br/>Hard Maple<br/>White Oak<br/>Soft Maple<br/>Red Oak<br/>Red Oak<br/>White Oak | White Oak 33.3333<br/>Hickory 11.1111<br/>Pecan 11.1111<br/>Hard Maple 11.11111<br/>Soft Maple 11.1111<br/>Red Oak 22.2222 |\n",
        "| *Exemplo 3* | Ash<br/>Cypress<br/>Red Elm<br/>Gum<br/>Hackberry<br/>Poplan<br/>Sassafras | Ash 0.1428<br/>Cypress 0.1428<br/>Red Elm 0.1428<br/>Gum 0.1428<br/>Hackberry 0.1428<br/>Poplan 0.1428<br/>Sassafras 0.1428 | "
      ]
    },
    {
      "cell_type": "code",
      "execution_count": null,
      "metadata": {
        "id": "DB1MYjZHKeJ_"
      },
      "outputs": [],
      "source": []
    },
    {
      "cell_type": "markdown",
      "metadata": {
        "id": "srVSF5T7KeJ_"
      },
      "source": [
        "[11849](https://uva.onlinejudge.org/index.php?option=com_onlinejudge&Itemid=8&page=show_problem&problem=2949) - Jack e Jill decidiram vender alguns dos seus livros. Eles decidiram que só vão vender os livros que os dois têm em comum. De cada livro, Jack possui no máximo uma cópia, assim como Jill. Quantos livros Jack e Jill podem vender?\n",
        "\n",
        "Escreva um código que receba como entrada os livros de Jack em uma linha, identificados por um número e separados por espaço. A linha seguinte segue o mesmo padrão e informa os livros de Jill.\n",
        "\n",
        "Seu código deverá informar quantos livros Jack e Jill têm em comum."
      ]
    },
    {
      "cell_type": "markdown",
      "metadata": {
        "id": "XnkaQxHLKeJ_"
      },
      "source": [
        "|.| Entrada | Saída |\n",
        "|-|:----:|:-:|\n",
        "| *Exemplo 1* | 1 2 3<br/>1 2 4 | 2 | \n",
        "| *Exemplo 2* | 4 8 1 3 2<br/>2 4 6 8 | 3 | \n",
        "| *Exemplo 3* | 5 4 2 3 7 12 9 15<br/>2 6 11 10 9 5 4 3 | 4 | "
      ]
    },
    {
      "cell_type": "code",
      "execution_count": null,
      "metadata": {
        "id": "sSggAQ27KeJ_"
      },
      "outputs": [],
      "source": []
    }
  ],
  "metadata": {
    "kernelspec": {
      "display_name": "Python 3",
      "language": "python",
      "name": "python3"
    },
    "language_info": {
      "codemirror_mode": {
        "name": "ipython",
        "version": 3
      },
      "file_extension": ".py",
      "mimetype": "text/x-python",
      "name": "python",
      "nbconvert_exporter": "python",
      "pygments_lexer": "ipython3",
      "version": "3.6.8"
    },
    "colab": {
      "provenance": []
    }
  },
  "nbformat": 4,
  "nbformat_minor": 0
}